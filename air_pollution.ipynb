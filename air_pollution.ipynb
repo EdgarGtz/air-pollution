{
 "cells": [
  {
   "cell_type": "code",
   "execution_count": 10,
   "id": "d680a30a",
   "metadata": {},
   "outputs": [],
   "source": [
    "import requests\n",
    "import pandas as pd\n",
    "import datetime\n",
    "from datetime import datetime\n",
    "import numpy as np\n",
    "import sqlite3"
   ]
  },
  {
   "cell_type": "code",
   "execution_count": 11,
   "id": "6834c090",
   "metadata": {},
   "outputs": [],
   "source": [
    "url_groupdetail = \"https://api.purpleair.com/v1/groups/1662\"\n",
    "url_newmember = \"https://api.purpleair.com/v1/groups/1662/members\"\n",
    "url_sensordata = \"https://api.purpleair.com/v1/sensors/39355\"\n",
    "url_groupdata = \"https://api.purpleair.com/v1/groups/1662/members\"\n",
    "url_deletemember = \"https://api.purpleair.com/v1/groups/1662/members/158862\"\n",
    "\n",
    "key_get = \"C111944A-B3A7-11ED-B6F4-42010A800007\"\n",
    "key_post = \"C112A231-B3A7-11ED-B6F4-42010A800007\"\n",
    "headers = {'X-API-Key': key_get}"
   ]
  },
  {
   "cell_type": "markdown",
   "id": "70874e9e",
   "metadata": {},
   "source": [
    "### Create SQL Database"
   ]
  },
  {
   "cell_type": "code",
   "execution_count": 12,
   "id": "5275959f",
   "metadata": {},
   "outputs": [],
   "source": [
    "conn = sqlite3.connect('air-pollution.db')\n",
    "c = conn.cursor()\n",
    "\n",
    "c.execute('''\n",
    "          CREATE TABLE IF NOT EXISTS air_pollution\n",
    "          ([sensor_index] INTEGER PRIMARY KEY, [pm_25] REAL, [pm_10] REAL, [temp_celsius] INTEGER,\n",
    "          [date] TEXT)\n",
    "          ''')\n",
    "\n",
    "conn.commit()"
   ]
  },
  {
   "cell_type": "code",
   "execution_count": 13,
   "id": "effae79e",
   "metadata": {},
   "outputs": [
    {
     "data": {
      "text/html": [
       "<div>\n",
       "<style scoped>\n",
       "    .dataframe tbody tr th:only-of-type {\n",
       "        vertical-align: middle;\n",
       "    }\n",
       "\n",
       "    .dataframe tbody tr th {\n",
       "        vertical-align: top;\n",
       "    }\n",
       "\n",
       "    .dataframe thead th {\n",
       "        text-align: right;\n",
       "    }\n",
       "</style>\n",
       "<table border=\"1\" class=\"dataframe\">\n",
       "  <thead>\n",
       "    <tr style=\"text-align: right;\">\n",
       "      <th></th>\n",
       "      <th>sensor_index</th>\n",
       "      <th>pm_25</th>\n",
       "      <th>pm_10</th>\n",
       "      <th>temp_celsius</th>\n",
       "      <th>date</th>\n",
       "    </tr>\n",
       "  </thead>\n",
       "  <tbody>\n",
       "  </tbody>\n",
       "</table>\n",
       "</div>"
      ],
      "text/plain": [
       "Empty DataFrame\n",
       "Columns: [sensor_index, pm_25, pm_10, temp_celsius, date]\n",
       "Index: []"
      ]
     },
     "execution_count": 13,
     "metadata": {},
     "output_type": "execute_result"
    }
   ],
   "source": [
    "# Fetch data \n",
    "conn = sqlite3.connect('air-pollution.db') \n",
    "c = conn.cursor()\n",
    "                   \n",
    "c.execute('''\n",
    "          SELECT\n",
    "          sensor_index, pm_25, pm_10, temp_celsius, date FROM air_pollution;\n",
    "          ''')\n",
    "\n",
    "df = pd.DataFrame(c.fetchall(), columns=['sensor_index', 'pm_25', 'pm_10', 'temp_celsius', 'date'])\n",
    "df"
   ]
  },
  {
   "cell_type": "markdown",
   "id": "80ceee09",
   "metadata": {},
   "source": [
    "### Sensor: 34641"
   ]
  },
  {
   "cell_type": "code",
   "execution_count": 14,
   "id": "c4f41595",
   "metadata": {},
   "outputs": [],
   "source": [
    "url_34641 = \"https://api.purpleair.com/v1/sensors/34641\""
   ]
  },
  {
   "cell_type": "code",
   "execution_count": 15,
   "id": "f7ff01a6",
   "metadata": {},
   "outputs": [],
   "source": [
    "payload_pm25_34641 = {'fields': 'pm2.5'}\n",
    "payload_pm10_34641 = {'fields': 'pm10.0'}\n",
    "payload_temp_34641 = {'fields':  'temperature'}"
   ]
  },
  {
   "cell_type": "code",
   "execution_count": 16,
   "id": "d48d6a86",
   "metadata": {},
   "outputs": [],
   "source": [
    "sensor_index_34641 = 34641\n",
    "\n",
    "pm25_34641 = requests.get(url_34641, headers = headers, params = payload_pm25_34641)\n",
    "pm25_34641 = pm25_34641.json()\n",
    "pm25_34641 = pm25_34641['sensor']['pm2.5']\n",
    "\n",
    "pm10_34641 = requests.get(url_34641, headers = headers, params = payload_pm10_34641)\n",
    "pm10_34641 = pm10_34641.json()\n",
    "pm10_34641 = pm10_34641['sensor']['pm10.0']\n",
    "\n",
    "temp_34641 = requests.get(url_34641, headers = headers, params = payload_temp_34641)\n",
    "temp_34641 = temp_34641.json()\n",
    "temp_34641 = temp_34641['sensor']['temperature']\n",
    "\n",
    "now = datetime.now()\n",
    "date_34641 = now.strftime(\"%d/%m/%Y %H:%M:%S\")"
   ]
  },
  {
   "cell_type": "code",
   "execution_count": 17,
   "id": "76f2d4c3",
   "metadata": {},
   "outputs": [],
   "source": [
    "c.execute('INSERT INTO air_pollution(sensor_index, pm_25, pm_10, temp_celsius, date) VALUES(?, ?, ?, ?, ?)',\n",
    "               (sensor_index_34641, pm25_34641, pm10_34641, temp_34641, date_34641))\n",
    "\n",
    "conn.commit()\n",
    "conn.close()"
   ]
  },
  {
   "cell_type": "code",
   "execution_count": 18,
   "id": "a60df0d3",
   "metadata": {},
   "outputs": [
    {
     "data": {
      "text/html": [
       "<div>\n",
       "<style scoped>\n",
       "    .dataframe tbody tr th:only-of-type {\n",
       "        vertical-align: middle;\n",
       "    }\n",
       "\n",
       "    .dataframe tbody tr th {\n",
       "        vertical-align: top;\n",
       "    }\n",
       "\n",
       "    .dataframe thead th {\n",
       "        text-align: right;\n",
       "    }\n",
       "</style>\n",
       "<table border=\"1\" class=\"dataframe\">\n",
       "  <thead>\n",
       "    <tr style=\"text-align: right;\">\n",
       "      <th></th>\n",
       "      <th>sensor_index</th>\n",
       "      <th>pm_25</th>\n",
       "      <th>pm_10</th>\n",
       "      <th>temp_celsius</th>\n",
       "      <th>date</th>\n",
       "    </tr>\n",
       "  </thead>\n",
       "  <tbody>\n",
       "    <tr>\n",
       "      <th>0</th>\n",
       "      <td>34641</td>\n",
       "      <td>17.0</td>\n",
       "      <td>19.0</td>\n",
       "      <td>95</td>\n",
       "      <td>02/03/2023 18:48:34</td>\n",
       "    </tr>\n",
       "  </tbody>\n",
       "</table>\n",
       "</div>"
      ],
      "text/plain": [
       "   sensor_index  pm_25  pm_10  temp_celsius                 date\n",
       "0         34641   17.0   19.0            95  02/03/2023 18:48:34"
      ]
     },
     "execution_count": 18,
     "metadata": {},
     "output_type": "execute_result"
    }
   ],
   "source": [
    "# Fetch data \n",
    "conn = sqlite3.connect('air-pollution.db') \n",
    "c = conn.cursor()\n",
    "                   \n",
    "c.execute('''\n",
    "          SELECT\n",
    "          sensor_index, pm_25, pm_10, temp_celsius, date FROM air_pollution;\n",
    "          ''')\n",
    "\n",
    "df_1 = pd.DataFrame(c.fetchall(), columns=['sensor_index', 'pm_25', 'pm_10', 'temp_celsius', 'date'])\n",
    "df_1"
   ]
  },
  {
   "cell_type": "markdown",
   "id": "40c8c9bc",
   "metadata": {},
   "source": [
    "### List of sensors in San Pedro"
   ]
  },
  {
   "cell_type": "code",
   "execution_count": 443,
   "id": "06ed5df4",
   "metadata": {},
   "outputs": [],
   "source": [
    "sensors = requests.get(url_groupdetail, headers=headers)"
   ]
  },
  {
   "cell_type": "code",
   "execution_count": 444,
   "id": "28864e9b",
   "metadata": {},
   "outputs": [],
   "source": [
    "sensors = sensors.json()"
   ]
  },
  {
   "cell_type": "code",
   "execution_count": 445,
   "id": "c92f0c0b",
   "metadata": {},
   "outputs": [],
   "source": [
    "sensors = sensors['members']"
   ]
  },
  {
   "cell_type": "code",
   "execution_count": 446,
   "id": "75b9e6c7",
   "metadata": {},
   "outputs": [
    {
     "data": {
      "text/plain": [
       "[{'id': 158850, 'sensor_index': 34641, 'created': 1677195580},\n",
       " {'id': 158851, 'sensor_index': 37747, 'created': 1677196464},\n",
       " {'id': 158849, 'sensor_index': 38537, 'created': 1677195516},\n",
       " {'id': 158854, 'sensor_index': 143372, 'created': 1677196569},\n",
       " {'id': 160198, 'sensor_index': 39355, 'created': 1677264653},\n",
       " {'id': 158855, 'sensor_index': 39697, 'created': 1677196598},\n",
       " {'id': 158852, 'sensor_index': 34569, 'created': 1677196500},\n",
       " {'id': 158853, 'sensor_index': 39731, 'created': 1677196526},\n",
       " {'id': 158858, 'sensor_index': 147010, 'created': 1677196677},\n",
       " {'id': 158859, 'sensor_index': 140440, 'created': 1677196694},\n",
       " {'id': 158856, 'sensor_index': 173083, 'created': 1677196625},\n",
       " {'id': 158857, 'sensor_index': 45769, 'created': 1677196650},\n",
       " {'id': 158863, 'sensor_index': 121825, 'created': 1677196842},\n",
       " {'id': 158860, 'sensor_index': 34511, 'created': 1677196728},\n",
       " {'id': 158861, 'sensor_index': 49563, 'created': 1677196755},\n",
       " {'id': 158866, 'sensor_index': 37657, 'created': 1677196933},\n",
       " {'id': 158867, 'sensor_index': 50555, 'created': 1677196976},\n",
       " {'id': 158864, 'sensor_index': 39725, 'created': 1677196880},\n",
       " {'id': 158865, 'sensor_index': 37861, 'created': 1677196900},\n",
       " {'id': 158870, 'sensor_index': 50565, 'created': 1677197090},\n",
       " {'id': 158871, 'sensor_index': 37643, 'created': 1677197123},\n",
       " {'id': 158868, 'sensor_index': 39733, 'created': 1677197016},\n",
       " {'id': 158869, 'sensor_index': 140432, 'created': 1677197072},\n",
       " {'id': 158872, 'sensor_index': 37253, 'created': 1677197196},\n",
       " {'id': 158882, 'sensor_index': 34499, 'created': 1677197461},\n",
       " {'id': 158883, 'sensor_index': 118909, 'created': 1677197480},\n",
       " {'id': 158881, 'sensor_index': 37661, 'created': 1677197440},\n",
       " {'id': 158886, 'sensor_index': 36709, 'created': 1677197645},\n",
       " {'id': 158887, 'sensor_index': 33117, 'created': 1677197731},\n",
       " {'id': 158884, 'sensor_index': 35011, 'created': 1677197496},\n",
       " {'id': 158885, 'sensor_index': 34969, 'created': 1677197516},\n",
       " {'id': 158888, 'sensor_index': 37255, 'created': 1677197814}]"
      ]
     },
     "execution_count": 446,
     "metadata": {},
     "output_type": "execute_result"
    }
   ],
   "source": [
    "sensors"
   ]
  },
  {
   "cell_type": "code",
   "execution_count": 447,
   "id": "0e0e9b0d",
   "metadata": {},
   "outputs": [],
   "source": [
    "sensors = pd.DataFrame(sensors)"
   ]
  },
  {
   "cell_type": "code",
   "execution_count": 448,
   "id": "1ad92f14",
   "metadata": {},
   "outputs": [],
   "source": [
    "sensors = sensors[['sensor_index', 'id', 'created']]\n",
    "\n",
    "#sensors.rename(columns = {'sensor_index':'index_label'}, inplace = True)"
   ]
  },
  {
   "cell_type": "code",
   "execution_count": 449,
   "id": "9c194d23",
   "metadata": {},
   "outputs": [],
   "source": [
    "sensors.rename(columns = {'id': 'group_id'}, inplace = True)"
   ]
  },
  {
   "cell_type": "code",
   "execution_count": 450,
   "id": "6e16846d",
   "metadata": {},
   "outputs": [],
   "source": [
    "sensors = sensors.drop('created', axis=1)"
   ]
  },
  {
   "cell_type": "code",
   "execution_count": 451,
   "id": "526057dc",
   "metadata": {},
   "outputs": [
    {
     "data": {
      "text/html": [
       "<div>\n",
       "<style scoped>\n",
       "    .dataframe tbody tr th:only-of-type {\n",
       "        vertical-align: middle;\n",
       "    }\n",
       "\n",
       "    .dataframe tbody tr th {\n",
       "        vertical-align: top;\n",
       "    }\n",
       "\n",
       "    .dataframe thead th {\n",
       "        text-align: right;\n",
       "    }\n",
       "</style>\n",
       "<table border=\"1\" class=\"dataframe\">\n",
       "  <thead>\n",
       "    <tr style=\"text-align: right;\">\n",
       "      <th></th>\n",
       "      <th>sensor_index</th>\n",
       "      <th>group_id</th>\n",
       "    </tr>\n",
       "  </thead>\n",
       "  <tbody>\n",
       "    <tr>\n",
       "      <th>0</th>\n",
       "      <td>34641</td>\n",
       "      <td>158850</td>\n",
       "    </tr>\n",
       "    <tr>\n",
       "      <th>1</th>\n",
       "      <td>37747</td>\n",
       "      <td>158851</td>\n",
       "    </tr>\n",
       "    <tr>\n",
       "      <th>2</th>\n",
       "      <td>38537</td>\n",
       "      <td>158849</td>\n",
       "    </tr>\n",
       "    <tr>\n",
       "      <th>3</th>\n",
       "      <td>143372</td>\n",
       "      <td>158854</td>\n",
       "    </tr>\n",
       "    <tr>\n",
       "      <th>4</th>\n",
       "      <td>39355</td>\n",
       "      <td>160198</td>\n",
       "    </tr>\n",
       "    <tr>\n",
       "      <th>5</th>\n",
       "      <td>39697</td>\n",
       "      <td>158855</td>\n",
       "    </tr>\n",
       "    <tr>\n",
       "      <th>6</th>\n",
       "      <td>34569</td>\n",
       "      <td>158852</td>\n",
       "    </tr>\n",
       "    <tr>\n",
       "      <th>7</th>\n",
       "      <td>39731</td>\n",
       "      <td>158853</td>\n",
       "    </tr>\n",
       "    <tr>\n",
       "      <th>8</th>\n",
       "      <td>147010</td>\n",
       "      <td>158858</td>\n",
       "    </tr>\n",
       "    <tr>\n",
       "      <th>9</th>\n",
       "      <td>140440</td>\n",
       "      <td>158859</td>\n",
       "    </tr>\n",
       "    <tr>\n",
       "      <th>10</th>\n",
       "      <td>173083</td>\n",
       "      <td>158856</td>\n",
       "    </tr>\n",
       "    <tr>\n",
       "      <th>11</th>\n",
       "      <td>45769</td>\n",
       "      <td>158857</td>\n",
       "    </tr>\n",
       "    <tr>\n",
       "      <th>12</th>\n",
       "      <td>121825</td>\n",
       "      <td>158863</td>\n",
       "    </tr>\n",
       "    <tr>\n",
       "      <th>13</th>\n",
       "      <td>34511</td>\n",
       "      <td>158860</td>\n",
       "    </tr>\n",
       "    <tr>\n",
       "      <th>14</th>\n",
       "      <td>49563</td>\n",
       "      <td>158861</td>\n",
       "    </tr>\n",
       "    <tr>\n",
       "      <th>15</th>\n",
       "      <td>37657</td>\n",
       "      <td>158866</td>\n",
       "    </tr>\n",
       "    <tr>\n",
       "      <th>16</th>\n",
       "      <td>50555</td>\n",
       "      <td>158867</td>\n",
       "    </tr>\n",
       "    <tr>\n",
       "      <th>17</th>\n",
       "      <td>39725</td>\n",
       "      <td>158864</td>\n",
       "    </tr>\n",
       "    <tr>\n",
       "      <th>18</th>\n",
       "      <td>37861</td>\n",
       "      <td>158865</td>\n",
       "    </tr>\n",
       "    <tr>\n",
       "      <th>19</th>\n",
       "      <td>50565</td>\n",
       "      <td>158870</td>\n",
       "    </tr>\n",
       "    <tr>\n",
       "      <th>20</th>\n",
       "      <td>37643</td>\n",
       "      <td>158871</td>\n",
       "    </tr>\n",
       "    <tr>\n",
       "      <th>21</th>\n",
       "      <td>39733</td>\n",
       "      <td>158868</td>\n",
       "    </tr>\n",
       "    <tr>\n",
       "      <th>22</th>\n",
       "      <td>140432</td>\n",
       "      <td>158869</td>\n",
       "    </tr>\n",
       "    <tr>\n",
       "      <th>23</th>\n",
       "      <td>37253</td>\n",
       "      <td>158872</td>\n",
       "    </tr>\n",
       "    <tr>\n",
       "      <th>24</th>\n",
       "      <td>34499</td>\n",
       "      <td>158882</td>\n",
       "    </tr>\n",
       "    <tr>\n",
       "      <th>25</th>\n",
       "      <td>118909</td>\n",
       "      <td>158883</td>\n",
       "    </tr>\n",
       "    <tr>\n",
       "      <th>26</th>\n",
       "      <td>37661</td>\n",
       "      <td>158881</td>\n",
       "    </tr>\n",
       "    <tr>\n",
       "      <th>27</th>\n",
       "      <td>36709</td>\n",
       "      <td>158886</td>\n",
       "    </tr>\n",
       "    <tr>\n",
       "      <th>28</th>\n",
       "      <td>33117</td>\n",
       "      <td>158887</td>\n",
       "    </tr>\n",
       "    <tr>\n",
       "      <th>29</th>\n",
       "      <td>35011</td>\n",
       "      <td>158884</td>\n",
       "    </tr>\n",
       "    <tr>\n",
       "      <th>30</th>\n",
       "      <td>34969</td>\n",
       "      <td>158885</td>\n",
       "    </tr>\n",
       "    <tr>\n",
       "      <th>31</th>\n",
       "      <td>37255</td>\n",
       "      <td>158888</td>\n",
       "    </tr>\n",
       "  </tbody>\n",
       "</table>\n",
       "</div>"
      ],
      "text/plain": [
       "    sensor_index  group_id\n",
       "0          34641    158850\n",
       "1          37747    158851\n",
       "2          38537    158849\n",
       "3         143372    158854\n",
       "4          39355    160198\n",
       "5          39697    158855\n",
       "6          34569    158852\n",
       "7          39731    158853\n",
       "8         147010    158858\n",
       "9         140440    158859\n",
       "10        173083    158856\n",
       "11         45769    158857\n",
       "12        121825    158863\n",
       "13         34511    158860\n",
       "14         49563    158861\n",
       "15         37657    158866\n",
       "16         50555    158867\n",
       "17         39725    158864\n",
       "18         37861    158865\n",
       "19         50565    158870\n",
       "20         37643    158871\n",
       "21         39733    158868\n",
       "22        140432    158869\n",
       "23         37253    158872\n",
       "24         34499    158882\n",
       "25        118909    158883\n",
       "26         37661    158881\n",
       "27         36709    158886\n",
       "28         33117    158887\n",
       "29         35011    158884\n",
       "30         34969    158885\n",
       "31         37255    158888"
      ]
     },
     "execution_count": 451,
     "metadata": {},
     "output_type": "execute_result"
    }
   ],
   "source": [
    "sensors"
   ]
  },
  {
   "cell_type": "markdown",
   "id": "362162cc",
   "metadata": {},
   "source": [
    "### PM 2.5"
   ]
  },
  {
   "cell_type": "code",
   "execution_count": 406,
   "id": "9cf339ea",
   "metadata": {},
   "outputs": [],
   "source": [
    "payload_pm25 = {'fields': 'pm2.5'}"
   ]
  },
  {
   "cell_type": "code",
   "execution_count": 407,
   "id": "dedbfc1b",
   "metadata": {},
   "outputs": [],
   "source": [
    "pm25 = requests.get(url_groupdata, headers = headers, params = payload_pm25)"
   ]
  },
  {
   "cell_type": "code",
   "execution_count": 408,
   "id": "1ff72294",
   "metadata": {},
   "outputs": [],
   "source": [
    "pm25 = pm25.json()"
   ]
  },
  {
   "cell_type": "code",
   "execution_count": 409,
   "id": "1a8fbc8a",
   "metadata": {},
   "outputs": [],
   "source": [
    "pm25 = pm25['data']"
   ]
  },
  {
   "cell_type": "code",
   "execution_count": 410,
   "id": "474e7108",
   "metadata": {},
   "outputs": [],
   "source": [
    "pm25 = pd.DataFrame(pm25, columns = ('sensor_index', 'pm_25'))"
   ]
  },
  {
   "cell_type": "code",
   "execution_count": 411,
   "id": "6e03ac06",
   "metadata": {},
   "outputs": [
    {
     "data": {
      "text/html": [
       "<div>\n",
       "<style scoped>\n",
       "    .dataframe tbody tr th:only-of-type {\n",
       "        vertical-align: middle;\n",
       "    }\n",
       "\n",
       "    .dataframe tbody tr th {\n",
       "        vertical-align: top;\n",
       "    }\n",
       "\n",
       "    .dataframe thead th {\n",
       "        text-align: right;\n",
       "    }\n",
       "</style>\n",
       "<table border=\"1\" class=\"dataframe\">\n",
       "  <thead>\n",
       "    <tr style=\"text-align: right;\">\n",
       "      <th></th>\n",
       "      <th>sensor_index</th>\n",
       "      <th>pm_25</th>\n",
       "    </tr>\n",
       "  </thead>\n",
       "  <tbody>\n",
       "    <tr>\n",
       "      <th>0</th>\n",
       "      <td>140432</td>\n",
       "      <td>2.5</td>\n",
       "    </tr>\n",
       "    <tr>\n",
       "      <th>1</th>\n",
       "      <td>140440</td>\n",
       "      <td>3.7</td>\n",
       "    </tr>\n",
       "    <tr>\n",
       "      <th>2</th>\n",
       "      <td>143372</td>\n",
       "      <td>8.2</td>\n",
       "    </tr>\n",
       "    <tr>\n",
       "      <th>3</th>\n",
       "      <td>147010</td>\n",
       "      <td>5.4</td>\n",
       "    </tr>\n",
       "    <tr>\n",
       "      <th>4</th>\n",
       "      <td>33117</td>\n",
       "      <td>3.6</td>\n",
       "    </tr>\n",
       "  </tbody>\n",
       "</table>\n",
       "</div>"
      ],
      "text/plain": [
       "   sensor_index  pm_25\n",
       "0        140432    2.5\n",
       "1        140440    3.7\n",
       "2        143372    8.2\n",
       "3        147010    5.4\n",
       "4         33117    3.6"
      ]
     },
     "execution_count": 411,
     "metadata": {},
     "output_type": "execute_result"
    }
   ],
   "source": [
    "pm25.head()"
   ]
  },
  {
   "cell_type": "markdown",
   "id": "64e9fcb1",
   "metadata": {},
   "source": [
    "### PM 10"
   ]
  },
  {
   "cell_type": "code",
   "execution_count": 412,
   "id": "1f2aff52",
   "metadata": {},
   "outputs": [],
   "source": [
    "payload_pm10 = {'fields': 'pm10.0'}"
   ]
  },
  {
   "cell_type": "code",
   "execution_count": 413,
   "id": "7e736a65",
   "metadata": {},
   "outputs": [],
   "source": [
    "pm10 = requests.get(url_groupdata, headers = headers, params = payload_pm10)"
   ]
  },
  {
   "cell_type": "code",
   "execution_count": 414,
   "id": "998b25f3",
   "metadata": {},
   "outputs": [],
   "source": [
    "pm10 = pm10.json()"
   ]
  },
  {
   "cell_type": "code",
   "execution_count": 415,
   "id": "af189d55",
   "metadata": {},
   "outputs": [],
   "source": [
    "pm10 = pm10['data']"
   ]
  },
  {
   "cell_type": "code",
   "execution_count": 416,
   "id": "2e67d6b8",
   "metadata": {},
   "outputs": [],
   "source": [
    "pm10 = pd.DataFrame(pm10, columns = ('sensor_index', 'pm_10'))"
   ]
  },
  {
   "cell_type": "code",
   "execution_count": 417,
   "id": "d54e4b4a",
   "metadata": {},
   "outputs": [
    {
     "data": {
      "text/html": [
       "<div>\n",
       "<style scoped>\n",
       "    .dataframe tbody tr th:only-of-type {\n",
       "        vertical-align: middle;\n",
       "    }\n",
       "\n",
       "    .dataframe tbody tr th {\n",
       "        vertical-align: top;\n",
       "    }\n",
       "\n",
       "    .dataframe thead th {\n",
       "        text-align: right;\n",
       "    }\n",
       "</style>\n",
       "<table border=\"1\" class=\"dataframe\">\n",
       "  <thead>\n",
       "    <tr style=\"text-align: right;\">\n",
       "      <th></th>\n",
       "      <th>sensor_index</th>\n",
       "      <th>pm_10</th>\n",
       "    </tr>\n",
       "  </thead>\n",
       "  <tbody>\n",
       "    <tr>\n",
       "      <th>0</th>\n",
       "      <td>140432</td>\n",
       "      <td>3.1</td>\n",
       "    </tr>\n",
       "    <tr>\n",
       "      <th>1</th>\n",
       "      <td>140440</td>\n",
       "      <td>4.0</td>\n",
       "    </tr>\n",
       "    <tr>\n",
       "      <th>2</th>\n",
       "      <td>143372</td>\n",
       "      <td>10.4</td>\n",
       "    </tr>\n",
       "    <tr>\n",
       "      <th>3</th>\n",
       "      <td>147010</td>\n",
       "      <td>6.5</td>\n",
       "    </tr>\n",
       "    <tr>\n",
       "      <th>4</th>\n",
       "      <td>33117</td>\n",
       "      <td>3.9</td>\n",
       "    </tr>\n",
       "  </tbody>\n",
       "</table>\n",
       "</div>"
      ],
      "text/plain": [
       "   sensor_index  pm_10\n",
       "0        140432    3.1\n",
       "1        140440    4.0\n",
       "2        143372   10.4\n",
       "3        147010    6.5\n",
       "4         33117    3.9"
      ]
     },
     "execution_count": 417,
     "metadata": {},
     "output_type": "execute_result"
    }
   ],
   "source": [
    "pm10.head()"
   ]
  },
  {
   "cell_type": "markdown",
   "id": "c6bb0bd6",
   "metadata": {},
   "source": [
    "### Temperature"
   ]
  },
  {
   "cell_type": "code",
   "execution_count": 418,
   "id": "27bc3732",
   "metadata": {},
   "outputs": [],
   "source": [
    "payload_temp = {'fields': 'temperature'}"
   ]
  },
  {
   "cell_type": "code",
   "execution_count": 419,
   "id": "0ee8478d",
   "metadata": {},
   "outputs": [],
   "source": [
    "temp = requests.get(url_groupdata, headers = headers, params = payload_temp)"
   ]
  },
  {
   "cell_type": "code",
   "execution_count": 420,
   "id": "96df0f10",
   "metadata": {},
   "outputs": [],
   "source": [
    "temp = temp.json()"
   ]
  },
  {
   "cell_type": "code",
   "execution_count": 421,
   "id": "b7ca510f",
   "metadata": {},
   "outputs": [],
   "source": [
    "temp = temp['data']"
   ]
  },
  {
   "cell_type": "code",
   "execution_count": 422,
   "id": "52502b4b",
   "metadata": {},
   "outputs": [],
   "source": [
    "temp = pd.DataFrame(temp, columns = ('sensor_index', 'temperature_f'))"
   ]
  },
  {
   "cell_type": "code",
   "execution_count": 423,
   "id": "fec9ed78",
   "metadata": {},
   "outputs": [],
   "source": [
    "# Convert fahrenheit to celsius.\n",
    "temp['temp_celsius'] = np.round((temp[\"temperature_f\"] - 32) * .5556, decimals = 0)\n",
    "temp['temp_celsius'] = temp['temp_celsius'].astype(int)\n",
    "\n",
    "# Delete fahrenheit column.\n",
    "temp = temp.drop('temperature_f', axis=1)"
   ]
  },
  {
   "cell_type": "code",
   "execution_count": 424,
   "id": "de5c9e2d",
   "metadata": {},
   "outputs": [
    {
     "data": {
      "text/html": [
       "<div>\n",
       "<style scoped>\n",
       "    .dataframe tbody tr th:only-of-type {\n",
       "        vertical-align: middle;\n",
       "    }\n",
       "\n",
       "    .dataframe tbody tr th {\n",
       "        vertical-align: top;\n",
       "    }\n",
       "\n",
       "    .dataframe thead th {\n",
       "        text-align: right;\n",
       "    }\n",
       "</style>\n",
       "<table border=\"1\" class=\"dataframe\">\n",
       "  <thead>\n",
       "    <tr style=\"text-align: right;\">\n",
       "      <th></th>\n",
       "      <th>sensor_index</th>\n",
       "      <th>temp_celsius</th>\n",
       "    </tr>\n",
       "  </thead>\n",
       "  <tbody>\n",
       "    <tr>\n",
       "      <th>0</th>\n",
       "      <td>140432</td>\n",
       "      <td>34</td>\n",
       "    </tr>\n",
       "    <tr>\n",
       "      <th>1</th>\n",
       "      <td>140440</td>\n",
       "      <td>37</td>\n",
       "    </tr>\n",
       "    <tr>\n",
       "      <th>2</th>\n",
       "      <td>143372</td>\n",
       "      <td>38</td>\n",
       "    </tr>\n",
       "    <tr>\n",
       "      <th>3</th>\n",
       "      <td>147010</td>\n",
       "      <td>41</td>\n",
       "    </tr>\n",
       "    <tr>\n",
       "      <th>4</th>\n",
       "      <td>33117</td>\n",
       "      <td>39</td>\n",
       "    </tr>\n",
       "  </tbody>\n",
       "</table>\n",
       "</div>"
      ],
      "text/plain": [
       "   sensor_index  temp_celsius\n",
       "0        140432            34\n",
       "1        140440            37\n",
       "2        143372            38\n",
       "3        147010            41\n",
       "4         33117            39"
      ]
     },
     "execution_count": 424,
     "metadata": {},
     "output_type": "execute_result"
    }
   ],
   "source": [
    "temp.head()"
   ]
  },
  {
   "cell_type": "markdown",
   "id": "98422799",
   "metadata": {},
   "source": [
    "### Date"
   ]
  },
  {
   "cell_type": "code",
   "execution_count": 425,
   "id": "2b70ea05",
   "metadata": {},
   "outputs": [],
   "source": [
    "now = datetime.now()"
   ]
  },
  {
   "cell_type": "code",
   "execution_count": 426,
   "id": "dd4a89cc",
   "metadata": {},
   "outputs": [],
   "source": [
    "timestamp = now.strftime(\"%d/%m/%Y %H:%M:%S\")"
   ]
  },
  {
   "cell_type": "code",
   "execution_count": 427,
   "id": "8ea17e4c",
   "metadata": {},
   "outputs": [],
   "source": [
    "timestamp = pd.Series(timestamp)"
   ]
  },
  {
   "cell_type": "code",
   "execution_count": 428,
   "id": "4adedf28",
   "metadata": {},
   "outputs": [],
   "source": [
    "timestamp = pd.DataFrame(timestamp)"
   ]
  },
  {
   "cell_type": "code",
   "execution_count": 429,
   "id": "3e0266f4",
   "metadata": {},
   "outputs": [],
   "source": [
    "timestamp = pd.DataFrame(np.repeat(timestamp.values, 32, axis=0))"
   ]
  },
  {
   "cell_type": "code",
   "execution_count": 430,
   "id": "a67523dc",
   "metadata": {},
   "outputs": [
    {
     "data": {
      "text/html": [
       "<div>\n",
       "<style scoped>\n",
       "    .dataframe tbody tr th:only-of-type {\n",
       "        vertical-align: middle;\n",
       "    }\n",
       "\n",
       "    .dataframe tbody tr th {\n",
       "        vertical-align: top;\n",
       "    }\n",
       "\n",
       "    .dataframe thead th {\n",
       "        text-align: right;\n",
       "    }\n",
       "</style>\n",
       "<table border=\"1\" class=\"dataframe\">\n",
       "  <thead>\n",
       "    <tr style=\"text-align: right;\">\n",
       "      <th></th>\n",
       "      <th>0</th>\n",
       "    </tr>\n",
       "  </thead>\n",
       "  <tbody>\n",
       "    <tr>\n",
       "      <th>0</th>\n",
       "      <td>02/03/2023 12:53:09</td>\n",
       "    </tr>\n",
       "    <tr>\n",
       "      <th>1</th>\n",
       "      <td>02/03/2023 12:53:09</td>\n",
       "    </tr>\n",
       "    <tr>\n",
       "      <th>2</th>\n",
       "      <td>02/03/2023 12:53:09</td>\n",
       "    </tr>\n",
       "    <tr>\n",
       "      <th>3</th>\n",
       "      <td>02/03/2023 12:53:09</td>\n",
       "    </tr>\n",
       "    <tr>\n",
       "      <th>4</th>\n",
       "      <td>02/03/2023 12:53:09</td>\n",
       "    </tr>\n",
       "  </tbody>\n",
       "</table>\n",
       "</div>"
      ],
      "text/plain": [
       "                     0\n",
       "0  02/03/2023 12:53:09\n",
       "1  02/03/2023 12:53:09\n",
       "2  02/03/2023 12:53:09\n",
       "3  02/03/2023 12:53:09\n",
       "4  02/03/2023 12:53:09"
      ]
     },
     "execution_count": 430,
     "metadata": {},
     "output_type": "execute_result"
    }
   ],
   "source": [
    "timestamp.head()"
   ]
  },
  {
   "cell_type": "markdown",
   "id": "1a4418ea",
   "metadata": {},
   "source": [
    "### Join data into one database"
   ]
  },
  {
   "cell_type": "code",
   "execution_count": 431,
   "id": "774226f7",
   "metadata": {},
   "outputs": [],
   "source": [
    "air_pollution = pd.concat([sensors.set_index('sensor_index'),pm25.set_index('sensor_index')], axis=1, join='inner').reset_index()"
   ]
  },
  {
   "cell_type": "code",
   "execution_count": 432,
   "id": "04adf606",
   "metadata": {},
   "outputs": [],
   "source": [
    "air_pollution = pd.concat([air_pollution.set_index('sensor_index'), pm10.set_index('sensor_index')], axis=1, join='inner').reset_index()"
   ]
  },
  {
   "cell_type": "code",
   "execution_count": 433,
   "id": "fde54d96",
   "metadata": {},
   "outputs": [],
   "source": [
    "air_pollution = pd.concat([air_pollution.set_index('sensor_index'), temp.set_index('sensor_index')], axis=1, join='inner').reset_index()"
   ]
  },
  {
   "cell_type": "code",
   "execution_count": 434,
   "id": "3f87c610",
   "metadata": {},
   "outputs": [],
   "source": [
    "air_pollution['date'] = timestamp"
   ]
  },
  {
   "cell_type": "code",
   "execution_count": 435,
   "id": "f4c24549",
   "metadata": {},
   "outputs": [
    {
     "data": {
      "text/html": [
       "<div>\n",
       "<style scoped>\n",
       "    .dataframe tbody tr th:only-of-type {\n",
       "        vertical-align: middle;\n",
       "    }\n",
       "\n",
       "    .dataframe tbody tr th {\n",
       "        vertical-align: top;\n",
       "    }\n",
       "\n",
       "    .dataframe thead th {\n",
       "        text-align: right;\n",
       "    }\n",
       "</style>\n",
       "<table border=\"1\" class=\"dataframe\">\n",
       "  <thead>\n",
       "    <tr style=\"text-align: right;\">\n",
       "      <th></th>\n",
       "      <th>sensor_index</th>\n",
       "      <th>group_id</th>\n",
       "      <th>pm_25</th>\n",
       "      <th>pm_10</th>\n",
       "      <th>temp_celsius</th>\n",
       "      <th>date</th>\n",
       "    </tr>\n",
       "  </thead>\n",
       "  <tbody>\n",
       "    <tr>\n",
       "      <th>0</th>\n",
       "      <td>34641</td>\n",
       "      <td>158850</td>\n",
       "      <td>6.8</td>\n",
       "      <td>7.3</td>\n",
       "      <td>38</td>\n",
       "      <td>02/03/2023 12:53:09</td>\n",
       "    </tr>\n",
       "    <tr>\n",
       "      <th>1</th>\n",
       "      <td>37747</td>\n",
       "      <td>158851</td>\n",
       "      <td>8.8</td>\n",
       "      <td>11.5</td>\n",
       "      <td>36</td>\n",
       "      <td>02/03/2023 12:53:09</td>\n",
       "    </tr>\n",
       "    <tr>\n",
       "      <th>2</th>\n",
       "      <td>38537</td>\n",
       "      <td>158849</td>\n",
       "      <td>12.2</td>\n",
       "      <td>13.7</td>\n",
       "      <td>38</td>\n",
       "      <td>02/03/2023 12:53:09</td>\n",
       "    </tr>\n",
       "    <tr>\n",
       "      <th>3</th>\n",
       "      <td>143372</td>\n",
       "      <td>158854</td>\n",
       "      <td>8.2</td>\n",
       "      <td>10.4</td>\n",
       "      <td>38</td>\n",
       "      <td>02/03/2023 12:53:09</td>\n",
       "    </tr>\n",
       "    <tr>\n",
       "      <th>4</th>\n",
       "      <td>39355</td>\n",
       "      <td>160198</td>\n",
       "      <td>7.3</td>\n",
       "      <td>9.6</td>\n",
       "      <td>39</td>\n",
       "      <td>02/03/2023 12:53:09</td>\n",
       "    </tr>\n",
       "    <tr>\n",
       "      <th>5</th>\n",
       "      <td>39697</td>\n",
       "      <td>158855</td>\n",
       "      <td>6.4</td>\n",
       "      <td>7.9</td>\n",
       "      <td>36</td>\n",
       "      <td>02/03/2023 12:53:09</td>\n",
       "    </tr>\n",
       "    <tr>\n",
       "      <th>6</th>\n",
       "      <td>34569</td>\n",
       "      <td>158852</td>\n",
       "      <td>5.7</td>\n",
       "      <td>6.3</td>\n",
       "      <td>42</td>\n",
       "      <td>02/03/2023 12:53:09</td>\n",
       "    </tr>\n",
       "    <tr>\n",
       "      <th>7</th>\n",
       "      <td>39731</td>\n",
       "      <td>158853</td>\n",
       "      <td>6.1</td>\n",
       "      <td>7.1</td>\n",
       "      <td>40</td>\n",
       "      <td>02/03/2023 12:53:09</td>\n",
       "    </tr>\n",
       "    <tr>\n",
       "      <th>8</th>\n",
       "      <td>147010</td>\n",
       "      <td>158858</td>\n",
       "      <td>5.4</td>\n",
       "      <td>6.5</td>\n",
       "      <td>41</td>\n",
       "      <td>02/03/2023 12:53:09</td>\n",
       "    </tr>\n",
       "    <tr>\n",
       "      <th>9</th>\n",
       "      <td>140440</td>\n",
       "      <td>158859</td>\n",
       "      <td>3.7</td>\n",
       "      <td>4.0</td>\n",
       "      <td>37</td>\n",
       "      <td>02/03/2023 12:53:09</td>\n",
       "    </tr>\n",
       "    <tr>\n",
       "      <th>10</th>\n",
       "      <td>173083</td>\n",
       "      <td>158856</td>\n",
       "      <td>0.0</td>\n",
       "      <td>0.0</td>\n",
       "      <td>36</td>\n",
       "      <td>02/03/2023 12:53:09</td>\n",
       "    </tr>\n",
       "    <tr>\n",
       "      <th>11</th>\n",
       "      <td>45769</td>\n",
       "      <td>158857</td>\n",
       "      <td>16.2</td>\n",
       "      <td>7.8</td>\n",
       "      <td>40</td>\n",
       "      <td>02/03/2023 12:53:09</td>\n",
       "    </tr>\n",
       "    <tr>\n",
       "      <th>12</th>\n",
       "      <td>121825</td>\n",
       "      <td>158863</td>\n",
       "      <td>5.6</td>\n",
       "      <td>4.4</td>\n",
       "      <td>39</td>\n",
       "      <td>02/03/2023 12:53:09</td>\n",
       "    </tr>\n",
       "    <tr>\n",
       "      <th>13</th>\n",
       "      <td>34511</td>\n",
       "      <td>158860</td>\n",
       "      <td>5.2</td>\n",
       "      <td>5.8</td>\n",
       "      <td>35</td>\n",
       "      <td>02/03/2023 12:53:09</td>\n",
       "    </tr>\n",
       "    <tr>\n",
       "      <th>14</th>\n",
       "      <td>49563</td>\n",
       "      <td>158861</td>\n",
       "      <td>1.8</td>\n",
       "      <td>1.9</td>\n",
       "      <td>31</td>\n",
       "      <td>02/03/2023 12:53:09</td>\n",
       "    </tr>\n",
       "    <tr>\n",
       "      <th>15</th>\n",
       "      <td>37657</td>\n",
       "      <td>158866</td>\n",
       "      <td>4.4</td>\n",
       "      <td>4.8</td>\n",
       "      <td>35</td>\n",
       "      <td>02/03/2023 12:53:09</td>\n",
       "    </tr>\n",
       "    <tr>\n",
       "      <th>16</th>\n",
       "      <td>50555</td>\n",
       "      <td>158867</td>\n",
       "      <td>9.0</td>\n",
       "      <td>9.6</td>\n",
       "      <td>38</td>\n",
       "      <td>02/03/2023 12:53:09</td>\n",
       "    </tr>\n",
       "    <tr>\n",
       "      <th>17</th>\n",
       "      <td>39725</td>\n",
       "      <td>158864</td>\n",
       "      <td>8.5</td>\n",
       "      <td>7.7</td>\n",
       "      <td>37</td>\n",
       "      <td>02/03/2023 12:53:09</td>\n",
       "    </tr>\n",
       "    <tr>\n",
       "      <th>18</th>\n",
       "      <td>37861</td>\n",
       "      <td>158865</td>\n",
       "      <td>0.3</td>\n",
       "      <td>0.3</td>\n",
       "      <td>37</td>\n",
       "      <td>02/03/2023 12:53:09</td>\n",
       "    </tr>\n",
       "    <tr>\n",
       "      <th>19</th>\n",
       "      <td>50565</td>\n",
       "      <td>158870</td>\n",
       "      <td>7.5</td>\n",
       "      <td>8.2</td>\n",
       "      <td>37</td>\n",
       "      <td>02/03/2023 12:53:09</td>\n",
       "    </tr>\n",
       "    <tr>\n",
       "      <th>20</th>\n",
       "      <td>37643</td>\n",
       "      <td>158871</td>\n",
       "      <td>6.9</td>\n",
       "      <td>7.5</td>\n",
       "      <td>42</td>\n",
       "      <td>02/03/2023 12:53:09</td>\n",
       "    </tr>\n",
       "    <tr>\n",
       "      <th>21</th>\n",
       "      <td>39733</td>\n",
       "      <td>158868</td>\n",
       "      <td>21.6</td>\n",
       "      <td>26.0</td>\n",
       "      <td>37</td>\n",
       "      <td>02/03/2023 12:53:09</td>\n",
       "    </tr>\n",
       "    <tr>\n",
       "      <th>22</th>\n",
       "      <td>140432</td>\n",
       "      <td>158869</td>\n",
       "      <td>2.5</td>\n",
       "      <td>3.1</td>\n",
       "      <td>34</td>\n",
       "      <td>02/03/2023 12:53:09</td>\n",
       "    </tr>\n",
       "    <tr>\n",
       "      <th>23</th>\n",
       "      <td>37253</td>\n",
       "      <td>158872</td>\n",
       "      <td>7.5</td>\n",
       "      <td>8.6</td>\n",
       "      <td>38</td>\n",
       "      <td>02/03/2023 12:53:09</td>\n",
       "    </tr>\n",
       "    <tr>\n",
       "      <th>24</th>\n",
       "      <td>34499</td>\n",
       "      <td>158882</td>\n",
       "      <td>2.6</td>\n",
       "      <td>2.6</td>\n",
       "      <td>36</td>\n",
       "      <td>02/03/2023 12:53:09</td>\n",
       "    </tr>\n",
       "    <tr>\n",
       "      <th>25</th>\n",
       "      <td>118909</td>\n",
       "      <td>158883</td>\n",
       "      <td>3.8</td>\n",
       "      <td>5.2</td>\n",
       "      <td>34</td>\n",
       "      <td>02/03/2023 12:53:09</td>\n",
       "    </tr>\n",
       "    <tr>\n",
       "      <th>26</th>\n",
       "      <td>37661</td>\n",
       "      <td>158881</td>\n",
       "      <td>7.2</td>\n",
       "      <td>9.2</td>\n",
       "      <td>38</td>\n",
       "      <td>02/03/2023 12:53:09</td>\n",
       "    </tr>\n",
       "    <tr>\n",
       "      <th>27</th>\n",
       "      <td>36709</td>\n",
       "      <td>158886</td>\n",
       "      <td>8.5</td>\n",
       "      <td>7.6</td>\n",
       "      <td>41</td>\n",
       "      <td>02/03/2023 12:53:09</td>\n",
       "    </tr>\n",
       "    <tr>\n",
       "      <th>28</th>\n",
       "      <td>33117</td>\n",
       "      <td>158887</td>\n",
       "      <td>3.6</td>\n",
       "      <td>3.9</td>\n",
       "      <td>39</td>\n",
       "      <td>02/03/2023 12:53:09</td>\n",
       "    </tr>\n",
       "    <tr>\n",
       "      <th>29</th>\n",
       "      <td>35011</td>\n",
       "      <td>158884</td>\n",
       "      <td>5.6</td>\n",
       "      <td>5.7</td>\n",
       "      <td>49</td>\n",
       "      <td>02/03/2023 12:53:09</td>\n",
       "    </tr>\n",
       "    <tr>\n",
       "      <th>30</th>\n",
       "      <td>34969</td>\n",
       "      <td>158885</td>\n",
       "      <td>9.3</td>\n",
       "      <td>9.8</td>\n",
       "      <td>37</td>\n",
       "      <td>02/03/2023 12:53:09</td>\n",
       "    </tr>\n",
       "    <tr>\n",
       "      <th>31</th>\n",
       "      <td>37255</td>\n",
       "      <td>158888</td>\n",
       "      <td>6.3</td>\n",
       "      <td>7.3</td>\n",
       "      <td>33</td>\n",
       "      <td>02/03/2023 12:53:09</td>\n",
       "    </tr>\n",
       "  </tbody>\n",
       "</table>\n",
       "</div>"
      ],
      "text/plain": [
       "    sensor_index  group_id  pm_25  pm_10  temp_celsius                 date\n",
       "0          34641    158850    6.8    7.3            38  02/03/2023 12:53:09\n",
       "1          37747    158851    8.8   11.5            36  02/03/2023 12:53:09\n",
       "2          38537    158849   12.2   13.7            38  02/03/2023 12:53:09\n",
       "3         143372    158854    8.2   10.4            38  02/03/2023 12:53:09\n",
       "4          39355    160198    7.3    9.6            39  02/03/2023 12:53:09\n",
       "5          39697    158855    6.4    7.9            36  02/03/2023 12:53:09\n",
       "6          34569    158852    5.7    6.3            42  02/03/2023 12:53:09\n",
       "7          39731    158853    6.1    7.1            40  02/03/2023 12:53:09\n",
       "8         147010    158858    5.4    6.5            41  02/03/2023 12:53:09\n",
       "9         140440    158859    3.7    4.0            37  02/03/2023 12:53:09\n",
       "10        173083    158856    0.0    0.0            36  02/03/2023 12:53:09\n",
       "11         45769    158857   16.2    7.8            40  02/03/2023 12:53:09\n",
       "12        121825    158863    5.6    4.4            39  02/03/2023 12:53:09\n",
       "13         34511    158860    5.2    5.8            35  02/03/2023 12:53:09\n",
       "14         49563    158861    1.8    1.9            31  02/03/2023 12:53:09\n",
       "15         37657    158866    4.4    4.8            35  02/03/2023 12:53:09\n",
       "16         50555    158867    9.0    9.6            38  02/03/2023 12:53:09\n",
       "17         39725    158864    8.5    7.7            37  02/03/2023 12:53:09\n",
       "18         37861    158865    0.3    0.3            37  02/03/2023 12:53:09\n",
       "19         50565    158870    7.5    8.2            37  02/03/2023 12:53:09\n",
       "20         37643    158871    6.9    7.5            42  02/03/2023 12:53:09\n",
       "21         39733    158868   21.6   26.0            37  02/03/2023 12:53:09\n",
       "22        140432    158869    2.5    3.1            34  02/03/2023 12:53:09\n",
       "23         37253    158872    7.5    8.6            38  02/03/2023 12:53:09\n",
       "24         34499    158882    2.6    2.6            36  02/03/2023 12:53:09\n",
       "25        118909    158883    3.8    5.2            34  02/03/2023 12:53:09\n",
       "26         37661    158881    7.2    9.2            38  02/03/2023 12:53:09\n",
       "27         36709    158886    8.5    7.6            41  02/03/2023 12:53:09\n",
       "28         33117    158887    3.6    3.9            39  02/03/2023 12:53:09\n",
       "29         35011    158884    5.6    5.7            49  02/03/2023 12:53:09\n",
       "30         34969    158885    9.3    9.8            37  02/03/2023 12:53:09\n",
       "31         37255    158888    6.3    7.3            33  02/03/2023 12:53:09"
      ]
     },
     "execution_count": 435,
     "metadata": {},
     "output_type": "execute_result"
    }
   ],
   "source": [
    "air_pollution"
   ]
  },
  {
   "cell_type": "code",
   "execution_count": 436,
   "id": "ca7118f1",
   "metadata": {},
   "outputs": [
    {
     "data": {
      "text/plain": [
       "sensor_index      int64\n",
       "group_id          int64\n",
       "pm_25           float64\n",
       "pm_10           float64\n",
       "temp_celsius      int64\n",
       "date             object\n",
       "dtype: object"
      ]
     },
     "execution_count": 436,
     "metadata": {},
     "output_type": "execute_result"
    }
   ],
   "source": [
    "air_pollution.dtypes"
   ]
  },
  {
   "cell_type": "code",
   "execution_count": null,
   "id": "73eb456e",
   "metadata": {},
   "outputs": [],
   "source": []
  }
 ],
 "metadata": {
  "kernelspec": {
   "display_name": "Python 3",
   "language": "python",
   "name": "python3"
  },
  "language_info": {
   "codemirror_mode": {
    "name": "ipython",
    "version": 3
   },
   "file_extension": ".py",
   "mimetype": "text/x-python",
   "name": "python",
   "nbconvert_exporter": "python",
   "pygments_lexer": "ipython3",
   "version": "3.6.9"
  }
 },
 "nbformat": 4,
 "nbformat_minor": 5
}
