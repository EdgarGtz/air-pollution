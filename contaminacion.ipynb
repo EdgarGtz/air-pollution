{
 "cells": [
  {
   "cell_type": "code",
   "execution_count": 1,
   "id": "6f0a8b3f",
   "metadata": {},
   "outputs": [],
   "source": [
    "import requests\n",
    "import pandas as pd\n",
    "import datetime\n",
    "from datetime import datetime\n",
    "import numpy as np"
   ]
  },
  {
   "cell_type": "code",
   "execution_count": 2,
   "id": "c2b46c6d",
   "metadata": {},
   "outputs": [],
   "source": [
    "url_groupdetail = \"https://api.purpleair.com/v1/groups/1662\"\n",
    "url_newmember = \"https://api.purpleair.com/v1/groups/1662/members\"\n",
    "url_sensordata = \"https://api.purpleair.com/v1/sensors/39355\"\n",
    "url_groupdata = \"https://api.purpleair.com/v1/groups/1662/members\"\n",
    "url_deletemember = \"https://api.purpleair.com/v1/groups/1662/members/158862\"\n",
    "\n",
    "key_get = \"C111944A-B3A7-11ED-B6F4-42010A800007\"\n",
    "key_post = \"C112A231-B3A7-11ED-B6F4-42010A800007\"\n",
    "headers = {'X-API-Key': key_get}"
   ]
  },
  {
   "cell_type": "markdown",
   "id": "bc061bd4",
   "metadata": {},
   "source": [
    "### List of sensors in San Pedro"
   ]
  },
  {
   "cell_type": "code",
   "execution_count": 3,
   "id": "d9aec525",
   "metadata": {},
   "outputs": [],
   "source": [
    "sensors = requests.get(url_groupdetail, headers=headers)"
   ]
  },
  {
   "cell_type": "code",
   "execution_count": 4,
   "id": "4dc5f175",
   "metadata": {},
   "outputs": [],
   "source": [
    "sensors = sensors.json()"
   ]
  },
  {
   "cell_type": "code",
   "execution_count": 5,
   "id": "6b05dfcd",
   "metadata": {},
   "outputs": [],
   "source": [
    "sensors = sensors['members']"
   ]
  },
  {
   "cell_type": "code",
   "execution_count": 6,
   "id": "bf7b174e",
   "metadata": {},
   "outputs": [],
   "source": [
    "sensors = pd.DataFrame(sensors)"
   ]
  },
  {
   "cell_type": "code",
   "execution_count": 7,
   "id": "bb2e1a79",
   "metadata": {},
   "outputs": [
    {
     "data": {
      "text/plain": [
       "32"
      ]
     },
     "execution_count": 7,
     "metadata": {},
     "output_type": "execute_result"
    }
   ],
   "source": [
    "len(sensors)"
   ]
  },
  {
   "cell_type": "code",
   "execution_count": 8,
   "id": "71c92b1b",
   "metadata": {},
   "outputs": [],
   "source": [
    "sensors = sensors[['sensor_index', 'id', 'created']]"
   ]
  },
  {
   "cell_type": "code",
   "execution_count": 9,
   "id": "dd061f25",
   "metadata": {},
   "outputs": [],
   "source": [
    "sensors.rename(columns = {'id': 'group_id'}, inplace = True)"
   ]
  },
  {
   "cell_type": "code",
   "execution_count": 10,
   "id": "e3c136f2",
   "metadata": {},
   "outputs": [],
   "source": [
    "sensors = sensors.drop('created', axis=1)"
   ]
  },
  {
   "cell_type": "code",
   "execution_count": 11,
   "id": "a5018a23",
   "metadata": {},
   "outputs": [
    {
     "data": {
      "text/html": [
       "<div>\n",
       "<style scoped>\n",
       "    .dataframe tbody tr th:only-of-type {\n",
       "        vertical-align: middle;\n",
       "    }\n",
       "\n",
       "    .dataframe tbody tr th {\n",
       "        vertical-align: top;\n",
       "    }\n",
       "\n",
       "    .dataframe thead th {\n",
       "        text-align: right;\n",
       "    }\n",
       "</style>\n",
       "<table border=\"1\" class=\"dataframe\">\n",
       "  <thead>\n",
       "    <tr style=\"text-align: right;\">\n",
       "      <th></th>\n",
       "      <th>sensor_index</th>\n",
       "      <th>group_id</th>\n",
       "    </tr>\n",
       "  </thead>\n",
       "  <tbody>\n",
       "    <tr>\n",
       "      <th>0</th>\n",
       "      <td>34641</td>\n",
       "      <td>158850</td>\n",
       "    </tr>\n",
       "    <tr>\n",
       "      <th>1</th>\n",
       "      <td>37747</td>\n",
       "      <td>158851</td>\n",
       "    </tr>\n",
       "    <tr>\n",
       "      <th>2</th>\n",
       "      <td>38537</td>\n",
       "      <td>158849</td>\n",
       "    </tr>\n",
       "    <tr>\n",
       "      <th>3</th>\n",
       "      <td>143372</td>\n",
       "      <td>158854</td>\n",
       "    </tr>\n",
       "    <tr>\n",
       "      <th>4</th>\n",
       "      <td>39355</td>\n",
       "      <td>160198</td>\n",
       "    </tr>\n",
       "  </tbody>\n",
       "</table>\n",
       "</div>"
      ],
      "text/plain": [
       "   sensor_index  group_id\n",
       "0         34641    158850\n",
       "1         37747    158851\n",
       "2         38537    158849\n",
       "3        143372    158854\n",
       "4         39355    160198"
      ]
     },
     "execution_count": 11,
     "metadata": {},
     "output_type": "execute_result"
    }
   ],
   "source": [
    "sensors.head()"
   ]
  },
  {
   "cell_type": "markdown",
   "id": "a247d7a1",
   "metadata": {},
   "source": [
    "### Call data - PM 2.5"
   ]
  },
  {
   "cell_type": "code",
   "execution_count": 12,
   "id": "409f0986",
   "metadata": {},
   "outputs": [],
   "source": [
    "payload_pm25 = {'fields': 'pm2.5'}"
   ]
  },
  {
   "cell_type": "code",
   "execution_count": 13,
   "id": "61d1e477",
   "metadata": {},
   "outputs": [],
   "source": [
    "pm25 = requests.get(url_groupdata, headers = headers, params = payload_pm25)"
   ]
  },
  {
   "cell_type": "code",
   "execution_count": 14,
   "id": "84e4debe",
   "metadata": {},
   "outputs": [],
   "source": [
    "pm25 = pm25.json()"
   ]
  },
  {
   "cell_type": "code",
   "execution_count": 15,
   "id": "4a1b207f",
   "metadata": {},
   "outputs": [],
   "source": [
    "pm25 = pm25['data']"
   ]
  },
  {
   "cell_type": "code",
   "execution_count": 16,
   "id": "7f09e429",
   "metadata": {},
   "outputs": [],
   "source": [
    "pm25 = pd.DataFrame(pm25, columns = ('sensor_index', 'pm_25'))"
   ]
  },
  {
   "cell_type": "code",
   "execution_count": 17,
   "id": "0527634e",
   "metadata": {},
   "outputs": [
    {
     "data": {
      "text/html": [
       "<div>\n",
       "<style scoped>\n",
       "    .dataframe tbody tr th:only-of-type {\n",
       "        vertical-align: middle;\n",
       "    }\n",
       "\n",
       "    .dataframe tbody tr th {\n",
       "        vertical-align: top;\n",
       "    }\n",
       "\n",
       "    .dataframe thead th {\n",
       "        text-align: right;\n",
       "    }\n",
       "</style>\n",
       "<table border=\"1\" class=\"dataframe\">\n",
       "  <thead>\n",
       "    <tr style=\"text-align: right;\">\n",
       "      <th></th>\n",
       "      <th>sensor_index</th>\n",
       "      <th>pm_25</th>\n",
       "    </tr>\n",
       "  </thead>\n",
       "  <tbody>\n",
       "    <tr>\n",
       "      <th>0</th>\n",
       "      <td>140432</td>\n",
       "      <td>4.3</td>\n",
       "    </tr>\n",
       "    <tr>\n",
       "      <th>1</th>\n",
       "      <td>140440</td>\n",
       "      <td>27.0</td>\n",
       "    </tr>\n",
       "    <tr>\n",
       "      <th>2</th>\n",
       "      <td>143372</td>\n",
       "      <td>26.1</td>\n",
       "    </tr>\n",
       "    <tr>\n",
       "      <th>3</th>\n",
       "      <td>147010</td>\n",
       "      <td>23.5</td>\n",
       "    </tr>\n",
       "    <tr>\n",
       "      <th>4</th>\n",
       "      <td>33117</td>\n",
       "      <td>11.4</td>\n",
       "    </tr>\n",
       "  </tbody>\n",
       "</table>\n",
       "</div>"
      ],
      "text/plain": [
       "   sensor_index  pm_25\n",
       "0        140432    4.3\n",
       "1        140440   27.0\n",
       "2        143372   26.1\n",
       "3        147010   23.5\n",
       "4         33117   11.4"
      ]
     },
     "execution_count": 17,
     "metadata": {},
     "output_type": "execute_result"
    }
   ],
   "source": [
    "pm25.head()"
   ]
  },
  {
   "cell_type": "markdown",
   "id": "2db3f467",
   "metadata": {},
   "source": [
    "### Call data - PM 10"
   ]
  },
  {
   "cell_type": "code",
   "execution_count": 18,
   "id": "1afc9583",
   "metadata": {},
   "outputs": [],
   "source": [
    "payload_pm10 = {'fields': 'pm10.0'}"
   ]
  },
  {
   "cell_type": "code",
   "execution_count": 19,
   "id": "038823f5",
   "metadata": {},
   "outputs": [],
   "source": [
    "pm10 = requests.get(url_groupdata, headers = headers, params = payload_pm10)"
   ]
  },
  {
   "cell_type": "code",
   "execution_count": 20,
   "id": "405a9575",
   "metadata": {},
   "outputs": [],
   "source": [
    "pm10 = pm10.json()"
   ]
  },
  {
   "cell_type": "code",
   "execution_count": 21,
   "id": "6f7cdee8",
   "metadata": {},
   "outputs": [],
   "source": [
    "pm10 = pm10['data']"
   ]
  },
  {
   "cell_type": "code",
   "execution_count": 22,
   "id": "6173937e",
   "metadata": {},
   "outputs": [],
   "source": [
    "pm10 = pd.DataFrame(pm10, columns = ('sensor_index', 'pm_10'))"
   ]
  },
  {
   "cell_type": "code",
   "execution_count": 23,
   "id": "74acd6eb",
   "metadata": {},
   "outputs": [
    {
     "data": {
      "text/html": [
       "<div>\n",
       "<style scoped>\n",
       "    .dataframe tbody tr th:only-of-type {\n",
       "        vertical-align: middle;\n",
       "    }\n",
       "\n",
       "    .dataframe tbody tr th {\n",
       "        vertical-align: top;\n",
       "    }\n",
       "\n",
       "    .dataframe thead th {\n",
       "        text-align: right;\n",
       "    }\n",
       "</style>\n",
       "<table border=\"1\" class=\"dataframe\">\n",
       "  <thead>\n",
       "    <tr style=\"text-align: right;\">\n",
       "      <th></th>\n",
       "      <th>sensor_index</th>\n",
       "      <th>pm_10</th>\n",
       "    </tr>\n",
       "  </thead>\n",
       "  <tbody>\n",
       "    <tr>\n",
       "      <th>0</th>\n",
       "      <td>140432</td>\n",
       "      <td>4.8</td>\n",
       "    </tr>\n",
       "    <tr>\n",
       "      <th>1</th>\n",
       "      <td>140440</td>\n",
       "      <td>29.5</td>\n",
       "    </tr>\n",
       "    <tr>\n",
       "      <th>2</th>\n",
       "      <td>143372</td>\n",
       "      <td>31.2</td>\n",
       "    </tr>\n",
       "    <tr>\n",
       "      <th>3</th>\n",
       "      <td>147010</td>\n",
       "      <td>25.3</td>\n",
       "    </tr>\n",
       "    <tr>\n",
       "      <th>4</th>\n",
       "      <td>33117</td>\n",
       "      <td>12.4</td>\n",
       "    </tr>\n",
       "  </tbody>\n",
       "</table>\n",
       "</div>"
      ],
      "text/plain": [
       "   sensor_index  pm_10\n",
       "0        140432    4.8\n",
       "1        140440   29.5\n",
       "2        143372   31.2\n",
       "3        147010   25.3\n",
       "4         33117   12.4"
      ]
     },
     "execution_count": 23,
     "metadata": {},
     "output_type": "execute_result"
    }
   ],
   "source": [
    "pm10.head()"
   ]
  },
  {
   "cell_type": "markdown",
   "id": "8fd54080",
   "metadata": {},
   "source": [
    "### Call data - Temperature"
   ]
  },
  {
   "cell_type": "code",
   "execution_count": 24,
   "id": "98feb39e",
   "metadata": {},
   "outputs": [],
   "source": [
    "payload_temp = {'fields': 'temperature'}"
   ]
  },
  {
   "cell_type": "code",
   "execution_count": 25,
   "id": "3d1431f7",
   "metadata": {},
   "outputs": [],
   "source": [
    "temp = requests.get(url_groupdata, headers = headers, params = payload_temp)"
   ]
  },
  {
   "cell_type": "code",
   "execution_count": 26,
   "id": "18b237d2",
   "metadata": {},
   "outputs": [],
   "source": [
    "temp = temp.json()"
   ]
  },
  {
   "cell_type": "code",
   "execution_count": 27,
   "id": "4f11bc63",
   "metadata": {},
   "outputs": [],
   "source": [
    "temp = temp['data']"
   ]
  },
  {
   "cell_type": "code",
   "execution_count": 28,
   "id": "6c7748fd",
   "metadata": {},
   "outputs": [],
   "source": [
    "temp = pd.DataFrame(temp, columns = ('sensor_index', 'temperature'))"
   ]
  },
  {
   "cell_type": "code",
   "execution_count": 29,
   "id": "8e32e301",
   "metadata": {},
   "outputs": [
    {
     "data": {
      "text/html": [
       "<div>\n",
       "<style scoped>\n",
       "    .dataframe tbody tr th:only-of-type {\n",
       "        vertical-align: middle;\n",
       "    }\n",
       "\n",
       "    .dataframe tbody tr th {\n",
       "        vertical-align: top;\n",
       "    }\n",
       "\n",
       "    .dataframe thead th {\n",
       "        text-align: right;\n",
       "    }\n",
       "</style>\n",
       "<table border=\"1\" class=\"dataframe\">\n",
       "  <thead>\n",
       "    <tr style=\"text-align: right;\">\n",
       "      <th></th>\n",
       "      <th>sensor_index</th>\n",
       "      <th>temperature</th>\n",
       "    </tr>\n",
       "  </thead>\n",
       "  <tbody>\n",
       "    <tr>\n",
       "      <th>0</th>\n",
       "      <td>140432</td>\n",
       "      <td>86</td>\n",
       "    </tr>\n",
       "    <tr>\n",
       "      <th>1</th>\n",
       "      <td>140440</td>\n",
       "      <td>88</td>\n",
       "    </tr>\n",
       "    <tr>\n",
       "      <th>2</th>\n",
       "      <td>143372</td>\n",
       "      <td>88</td>\n",
       "    </tr>\n",
       "    <tr>\n",
       "      <th>3</th>\n",
       "      <td>147010</td>\n",
       "      <td>94</td>\n",
       "    </tr>\n",
       "    <tr>\n",
       "      <th>4</th>\n",
       "      <td>33117</td>\n",
       "      <td>87</td>\n",
       "    </tr>\n",
       "  </tbody>\n",
       "</table>\n",
       "</div>"
      ],
      "text/plain": [
       "   sensor_index  temperature\n",
       "0        140432           86\n",
       "1        140440           88\n",
       "2        143372           88\n",
       "3        147010           94\n",
       "4         33117           87"
      ]
     },
     "execution_count": 29,
     "metadata": {},
     "output_type": "execute_result"
    }
   ],
   "source": [
    "temp.head()"
   ]
  },
  {
   "cell_type": "markdown",
   "id": "40f49613",
   "metadata": {},
   "source": [
    "### Call data - Timestamp"
   ]
  },
  {
   "cell_type": "code",
   "execution_count": 30,
   "id": "9f5aa193",
   "metadata": {},
   "outputs": [],
   "source": [
    "now = datetime.now()"
   ]
  },
  {
   "cell_type": "code",
   "execution_count": 31,
   "id": "c2d1e324",
   "metadata": {},
   "outputs": [],
   "source": [
    "timestamp = now.strftime(\"%d/%m/%Y %H:%M:%S\")"
   ]
  },
  {
   "cell_type": "code",
   "execution_count": 32,
   "id": "31a5dec7",
   "metadata": {},
   "outputs": [],
   "source": [
    "timestamp = pd.Series(timestamp)"
   ]
  },
  {
   "cell_type": "code",
   "execution_count": 33,
   "id": "2252efe9",
   "metadata": {},
   "outputs": [],
   "source": [
    "timestamp = pd.DataFrame(timestamp)"
   ]
  },
  {
   "cell_type": "code",
   "execution_count": 34,
   "id": "c0f83158",
   "metadata": {},
   "outputs": [],
   "source": [
    "timestamp = pd.DataFrame(np.repeat(timestamp.values, 32, axis=0))"
   ]
  },
  {
   "cell_type": "markdown",
   "id": "417bc891",
   "metadata": {},
   "source": [
    "### Join data into one database"
   ]
  },
  {
   "cell_type": "code",
   "execution_count": 35,
   "id": "e12f8b8b",
   "metadata": {},
   "outputs": [],
   "source": [
    "sensor_pm25 = pd.concat([sensors.set_index('sensor_index'),pm25.set_index('sensor_index')], axis=1, join='inner').reset_index()"
   ]
  },
  {
   "cell_type": "code",
   "execution_count": 36,
   "id": "3d7e348b",
   "metadata": {},
   "outputs": [],
   "source": [
    "sensor_pm25_pm10 = pd.concat([sensor_pm25.set_index('sensor_index'), pm10.set_index('sensor_index')], axis=1, join='inner').reset_index()"
   ]
  },
  {
   "cell_type": "code",
   "execution_count": 37,
   "id": "b8b1900a",
   "metadata": {},
   "outputs": [],
   "source": [
    "sensor_pm25_pm10_temp = pd.concat([sensor_pm25_pm10.set_index('sensor_index'), temp.set_index('sensor_index')], axis=1, join='inner').reset_index()"
   ]
  },
  {
   "cell_type": "code",
   "execution_count": 38,
   "id": "d76f9ae6",
   "metadata": {},
   "outputs": [],
   "source": [
    "sensor_pm25_pm10_temp['date'] = timestamp"
   ]
  },
  {
   "cell_type": "code",
   "execution_count": 39,
   "id": "5574bc9a",
   "metadata": {},
   "outputs": [
    {
     "data": {
      "text/html": [
       "<div>\n",
       "<style scoped>\n",
       "    .dataframe tbody tr th:only-of-type {\n",
       "        vertical-align: middle;\n",
       "    }\n",
       "\n",
       "    .dataframe tbody tr th {\n",
       "        vertical-align: top;\n",
       "    }\n",
       "\n",
       "    .dataframe thead th {\n",
       "        text-align: right;\n",
       "    }\n",
       "</style>\n",
       "<table border=\"1\" class=\"dataframe\">\n",
       "  <thead>\n",
       "    <tr style=\"text-align: right;\">\n",
       "      <th></th>\n",
       "      <th>sensor_index</th>\n",
       "      <th>group_id</th>\n",
       "      <th>pm_25</th>\n",
       "      <th>pm_10</th>\n",
       "      <th>temperature</th>\n",
       "      <th>date</th>\n",
       "    </tr>\n",
       "  </thead>\n",
       "  <tbody>\n",
       "    <tr>\n",
       "      <th>0</th>\n",
       "      <td>34641</td>\n",
       "      <td>158850</td>\n",
       "      <td>24.9</td>\n",
       "      <td>26.5</td>\n",
       "      <td>90</td>\n",
       "      <td>27/02/2023 10:32:33</td>\n",
       "    </tr>\n",
       "    <tr>\n",
       "      <th>1</th>\n",
       "      <td>37747</td>\n",
       "      <td>158851</td>\n",
       "      <td>23.2</td>\n",
       "      <td>30.3</td>\n",
       "      <td>85</td>\n",
       "      <td>27/02/2023 10:32:33</td>\n",
       "    </tr>\n",
       "    <tr>\n",
       "      <th>2</th>\n",
       "      <td>38537</td>\n",
       "      <td>158849</td>\n",
       "      <td>27.2</td>\n",
       "      <td>33.5</td>\n",
       "      <td>92</td>\n",
       "      <td>27/02/2023 10:32:33</td>\n",
       "    </tr>\n",
       "    <tr>\n",
       "      <th>3</th>\n",
       "      <td>143372</td>\n",
       "      <td>158854</td>\n",
       "      <td>26.1</td>\n",
       "      <td>31.2</td>\n",
       "      <td>88</td>\n",
       "      <td>27/02/2023 10:32:33</td>\n",
       "    </tr>\n",
       "    <tr>\n",
       "      <th>4</th>\n",
       "      <td>39355</td>\n",
       "      <td>160198</td>\n",
       "      <td>25.7</td>\n",
       "      <td>33.6</td>\n",
       "      <td>88</td>\n",
       "      <td>27/02/2023 10:32:33</td>\n",
       "    </tr>\n",
       "    <tr>\n",
       "      <th>5</th>\n",
       "      <td>39697</td>\n",
       "      <td>158855</td>\n",
       "      <td>25.3</td>\n",
       "      <td>28.7</td>\n",
       "      <td>88</td>\n",
       "      <td>27/02/2023 10:32:33</td>\n",
       "    </tr>\n",
       "    <tr>\n",
       "      <th>6</th>\n",
       "      <td>34569</td>\n",
       "      <td>158852</td>\n",
       "      <td>19.7</td>\n",
       "      <td>21.6</td>\n",
       "      <td>95</td>\n",
       "      <td>27/02/2023 10:32:33</td>\n",
       "    </tr>\n",
       "    <tr>\n",
       "      <th>7</th>\n",
       "      <td>39731</td>\n",
       "      <td>158853</td>\n",
       "      <td>21.0</td>\n",
       "      <td>21.6</td>\n",
       "      <td>96</td>\n",
       "      <td>27/02/2023 10:32:33</td>\n",
       "    </tr>\n",
       "    <tr>\n",
       "      <th>8</th>\n",
       "      <td>147010</td>\n",
       "      <td>158858</td>\n",
       "      <td>23.5</td>\n",
       "      <td>25.3</td>\n",
       "      <td>94</td>\n",
       "      <td>27/02/2023 10:32:33</td>\n",
       "    </tr>\n",
       "    <tr>\n",
       "      <th>9</th>\n",
       "      <td>140440</td>\n",
       "      <td>158859</td>\n",
       "      <td>27.0</td>\n",
       "      <td>29.5</td>\n",
       "      <td>88</td>\n",
       "      <td>27/02/2023 10:32:33</td>\n",
       "    </tr>\n",
       "    <tr>\n",
       "      <th>10</th>\n",
       "      <td>173083</td>\n",
       "      <td>158856</td>\n",
       "      <td>0.0</td>\n",
       "      <td>0.0</td>\n",
       "      <td>85</td>\n",
       "      <td>27/02/2023 10:32:33</td>\n",
       "    </tr>\n",
       "    <tr>\n",
       "      <th>11</th>\n",
       "      <td>45769</td>\n",
       "      <td>158857</td>\n",
       "      <td>16.2</td>\n",
       "      <td>18.9</td>\n",
       "      <td>108</td>\n",
       "      <td>27/02/2023 10:32:33</td>\n",
       "    </tr>\n",
       "    <tr>\n",
       "      <th>12</th>\n",
       "      <td>121825</td>\n",
       "      <td>158863</td>\n",
       "      <td>27.2</td>\n",
       "      <td>29.3</td>\n",
       "      <td>87</td>\n",
       "      <td>27/02/2023 10:32:33</td>\n",
       "    </tr>\n",
       "    <tr>\n",
       "      <th>13</th>\n",
       "      <td>34511</td>\n",
       "      <td>158860</td>\n",
       "      <td>15.7</td>\n",
       "      <td>17.0</td>\n",
       "      <td>88</td>\n",
       "      <td>27/02/2023 10:32:33</td>\n",
       "    </tr>\n",
       "    <tr>\n",
       "      <th>14</th>\n",
       "      <td>49563</td>\n",
       "      <td>158861</td>\n",
       "      <td>2.4</td>\n",
       "      <td>2.6</td>\n",
       "      <td>86</td>\n",
       "      <td>27/02/2023 10:32:33</td>\n",
       "    </tr>\n",
       "    <tr>\n",
       "      <th>15</th>\n",
       "      <td>37657</td>\n",
       "      <td>158866</td>\n",
       "      <td>18.1</td>\n",
       "      <td>20.0</td>\n",
       "      <td>85</td>\n",
       "      <td>27/02/2023 10:32:33</td>\n",
       "    </tr>\n",
       "    <tr>\n",
       "      <th>16</th>\n",
       "      <td>50555</td>\n",
       "      <td>158867</td>\n",
       "      <td>26.8</td>\n",
       "      <td>32.4</td>\n",
       "      <td>95</td>\n",
       "      <td>27/02/2023 10:32:33</td>\n",
       "    </tr>\n",
       "    <tr>\n",
       "      <th>17</th>\n",
       "      <td>39725</td>\n",
       "      <td>158864</td>\n",
       "      <td>31.5</td>\n",
       "      <td>35.0</td>\n",
       "      <td>86</td>\n",
       "      <td>27/02/2023 10:32:33</td>\n",
       "    </tr>\n",
       "    <tr>\n",
       "      <th>18</th>\n",
       "      <td>37861</td>\n",
       "      <td>158865</td>\n",
       "      <td>0.2</td>\n",
       "      <td>0.2</td>\n",
       "      <td>87</td>\n",
       "      <td>27/02/2023 10:32:33</td>\n",
       "    </tr>\n",
       "    <tr>\n",
       "      <th>19</th>\n",
       "      <td>50565</td>\n",
       "      <td>158870</td>\n",
       "      <td>24.8</td>\n",
       "      <td>26.9</td>\n",
       "      <td>89</td>\n",
       "      <td>27/02/2023 10:32:33</td>\n",
       "    </tr>\n",
       "    <tr>\n",
       "      <th>20</th>\n",
       "      <td>37643</td>\n",
       "      <td>158871</td>\n",
       "      <td>31.3</td>\n",
       "      <td>36.7</td>\n",
       "      <td>85</td>\n",
       "      <td>27/02/2023 10:32:33</td>\n",
       "    </tr>\n",
       "    <tr>\n",
       "      <th>21</th>\n",
       "      <td>39733</td>\n",
       "      <td>158868</td>\n",
       "      <td>33.2</td>\n",
       "      <td>40.4</td>\n",
       "      <td>89</td>\n",
       "      <td>27/02/2023 10:32:33</td>\n",
       "    </tr>\n",
       "    <tr>\n",
       "      <th>22</th>\n",
       "      <td>140432</td>\n",
       "      <td>158869</td>\n",
       "      <td>4.3</td>\n",
       "      <td>4.8</td>\n",
       "      <td>86</td>\n",
       "      <td>27/02/2023 10:32:33</td>\n",
       "    </tr>\n",
       "    <tr>\n",
       "      <th>23</th>\n",
       "      <td>37253</td>\n",
       "      <td>158872</td>\n",
       "      <td>27.6</td>\n",
       "      <td>34.0</td>\n",
       "      <td>89</td>\n",
       "      <td>27/02/2023 10:32:33</td>\n",
       "    </tr>\n",
       "    <tr>\n",
       "      <th>24</th>\n",
       "      <td>34499</td>\n",
       "      <td>158882</td>\n",
       "      <td>0.9</td>\n",
       "      <td>0.9</td>\n",
       "      <td>86</td>\n",
       "      <td>27/02/2023 10:32:33</td>\n",
       "    </tr>\n",
       "    <tr>\n",
       "      <th>25</th>\n",
       "      <td>118909</td>\n",
       "      <td>158883</td>\n",
       "      <td>24.4</td>\n",
       "      <td>26.8</td>\n",
       "      <td>89</td>\n",
       "      <td>27/02/2023 10:32:33</td>\n",
       "    </tr>\n",
       "    <tr>\n",
       "      <th>26</th>\n",
       "      <td>37661</td>\n",
       "      <td>158881</td>\n",
       "      <td>27.4</td>\n",
       "      <td>30.5</td>\n",
       "      <td>87</td>\n",
       "      <td>27/02/2023 10:32:33</td>\n",
       "    </tr>\n",
       "    <tr>\n",
       "      <th>27</th>\n",
       "      <td>36709</td>\n",
       "      <td>158886</td>\n",
       "      <td>26.5</td>\n",
       "      <td>28.1</td>\n",
       "      <td>90</td>\n",
       "      <td>27/02/2023 10:32:33</td>\n",
       "    </tr>\n",
       "    <tr>\n",
       "      <th>28</th>\n",
       "      <td>33117</td>\n",
       "      <td>158887</td>\n",
       "      <td>11.4</td>\n",
       "      <td>12.4</td>\n",
       "      <td>87</td>\n",
       "      <td>27/02/2023 10:32:33</td>\n",
       "    </tr>\n",
       "    <tr>\n",
       "      <th>29</th>\n",
       "      <td>35011</td>\n",
       "      <td>158884</td>\n",
       "      <td>20.6</td>\n",
       "      <td>22.6</td>\n",
       "      <td>103</td>\n",
       "      <td>27/02/2023 10:32:33</td>\n",
       "    </tr>\n",
       "    <tr>\n",
       "      <th>30</th>\n",
       "      <td>34969</td>\n",
       "      <td>158885</td>\n",
       "      <td>25.1</td>\n",
       "      <td>28.4</td>\n",
       "      <td>89</td>\n",
       "      <td>27/02/2023 10:32:33</td>\n",
       "    </tr>\n",
       "    <tr>\n",
       "      <th>31</th>\n",
       "      <td>37255</td>\n",
       "      <td>158888</td>\n",
       "      <td>24.2</td>\n",
       "      <td>27.5</td>\n",
       "      <td>82</td>\n",
       "      <td>27/02/2023 10:32:33</td>\n",
       "    </tr>\n",
       "  </tbody>\n",
       "</table>\n",
       "</div>"
      ],
      "text/plain": [
       "    sensor_index  group_id  pm_25  pm_10  temperature                 date\n",
       "0          34641    158850   24.9   26.5           90  27/02/2023 10:32:33\n",
       "1          37747    158851   23.2   30.3           85  27/02/2023 10:32:33\n",
       "2          38537    158849   27.2   33.5           92  27/02/2023 10:32:33\n",
       "3         143372    158854   26.1   31.2           88  27/02/2023 10:32:33\n",
       "4          39355    160198   25.7   33.6           88  27/02/2023 10:32:33\n",
       "5          39697    158855   25.3   28.7           88  27/02/2023 10:32:33\n",
       "6          34569    158852   19.7   21.6           95  27/02/2023 10:32:33\n",
       "7          39731    158853   21.0   21.6           96  27/02/2023 10:32:33\n",
       "8         147010    158858   23.5   25.3           94  27/02/2023 10:32:33\n",
       "9         140440    158859   27.0   29.5           88  27/02/2023 10:32:33\n",
       "10        173083    158856    0.0    0.0           85  27/02/2023 10:32:33\n",
       "11         45769    158857   16.2   18.9          108  27/02/2023 10:32:33\n",
       "12        121825    158863   27.2   29.3           87  27/02/2023 10:32:33\n",
       "13         34511    158860   15.7   17.0           88  27/02/2023 10:32:33\n",
       "14         49563    158861    2.4    2.6           86  27/02/2023 10:32:33\n",
       "15         37657    158866   18.1   20.0           85  27/02/2023 10:32:33\n",
       "16         50555    158867   26.8   32.4           95  27/02/2023 10:32:33\n",
       "17         39725    158864   31.5   35.0           86  27/02/2023 10:32:33\n",
       "18         37861    158865    0.2    0.2           87  27/02/2023 10:32:33\n",
       "19         50565    158870   24.8   26.9           89  27/02/2023 10:32:33\n",
       "20         37643    158871   31.3   36.7           85  27/02/2023 10:32:33\n",
       "21         39733    158868   33.2   40.4           89  27/02/2023 10:32:33\n",
       "22        140432    158869    4.3    4.8           86  27/02/2023 10:32:33\n",
       "23         37253    158872   27.6   34.0           89  27/02/2023 10:32:33\n",
       "24         34499    158882    0.9    0.9           86  27/02/2023 10:32:33\n",
       "25        118909    158883   24.4   26.8           89  27/02/2023 10:32:33\n",
       "26         37661    158881   27.4   30.5           87  27/02/2023 10:32:33\n",
       "27         36709    158886   26.5   28.1           90  27/02/2023 10:32:33\n",
       "28         33117    158887   11.4   12.4           87  27/02/2023 10:32:33\n",
       "29         35011    158884   20.6   22.6          103  27/02/2023 10:32:33\n",
       "30         34969    158885   25.1   28.4           89  27/02/2023 10:32:33\n",
       "31         37255    158888   24.2   27.5           82  27/02/2023 10:32:33"
      ]
     },
     "execution_count": 39,
     "metadata": {},
     "output_type": "execute_result"
    }
   ],
   "source": [
    "sensor_pm25_pm10_temp"
   ]
  },
  {
   "cell_type": "code",
   "execution_count": null,
   "id": "f988531b",
   "metadata": {},
   "outputs": [],
   "source": []
  }
 ],
 "metadata": {
  "kernelspec": {
   "display_name": "Python 3 (ipykernel)",
   "language": "python",
   "name": "python3"
  },
  "language_info": {
   "codemirror_mode": {
    "name": "ipython",
    "version": 3
   },
   "file_extension": ".py",
   "mimetype": "text/x-python",
   "name": "python",
   "nbconvert_exporter": "python",
   "pygments_lexer": "ipython3",
   "version": "3.10.9"
  }
 },
 "nbformat": 4,
 "nbformat_minor": 5
}
