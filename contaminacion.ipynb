{
 "cells": [
  {
   "cell_type": "code",
   "execution_count": 321,
   "id": "02ef4aa0",
   "metadata": {},
   "outputs": [],
   "source": [
    "import requests\n",
    "import pandas as pd\n",
    "import datetime\n",
    "from datetime import datetime\n",
    "import numpy as np\n",
    "import sqlite3"
   ]
  },
  {
   "cell_type": "code",
   "execution_count": 322,
   "id": "1ac55b1d",
   "metadata": {},
   "outputs": [],
   "source": [
    "url_groupdetail = \"https://api.purpleair.com/v1/groups/1662\"\n",
    "url_newmember = \"https://api.purpleair.com/v1/groups/1662/members\"\n",
    "url_sensordata = \"https://api.purpleair.com/v1/sensors/39355\"\n",
    "url_groupdata = \"https://api.purpleair.com/v1/groups/1662/members\"\n",
    "url_deletemember = \"https://api.purpleair.com/v1/groups/1662/members/158862\"\n",
    "\n",
    "key_get = \"C111944A-B3A7-11ED-B6F4-42010A800007\"\n",
    "key_post = \"C112A231-B3A7-11ED-B6F4-42010A800007\"\n",
    "headers = {'X-API-Key': key_get}"
   ]
  },
  {
   "cell_type": "markdown",
   "id": "7fd07dbd",
   "metadata": {},
   "source": [
    "### List of sensors in San Pedro"
   ]
  },
  {
   "cell_type": "code",
   "execution_count": 323,
   "id": "2ecbc04e",
   "metadata": {},
   "outputs": [],
   "source": [
    "sensors = requests.get(url_groupdetail, headers=headers)"
   ]
  },
  {
   "cell_type": "code",
   "execution_count": 324,
   "id": "839e7f0f",
   "metadata": {},
   "outputs": [],
   "source": [
    "sensors = sensors.json()"
   ]
  },
  {
   "cell_type": "code",
   "execution_count": 325,
   "id": "572c3024",
   "metadata": {},
   "outputs": [],
   "source": [
    "sensors = sensors['members']"
   ]
  },
  {
   "cell_type": "code",
   "execution_count": 326,
   "id": "8a498abb",
   "metadata": {},
   "outputs": [
    {
     "data": {
      "text/plain": [
       "[{'id': 158850, 'sensor_index': 34641, 'created': 1677195580},\n",
       " {'id': 158851, 'sensor_index': 37747, 'created': 1677196464},\n",
       " {'id': 158849, 'sensor_index': 38537, 'created': 1677195516},\n",
       " {'id': 158854, 'sensor_index': 143372, 'created': 1677196569},\n",
       " {'id': 160198, 'sensor_index': 39355, 'created': 1677264653},\n",
       " {'id': 158855, 'sensor_index': 39697, 'created': 1677196598},\n",
       " {'id': 158852, 'sensor_index': 34569, 'created': 1677196500},\n",
       " {'id': 158853, 'sensor_index': 39731, 'created': 1677196526},\n",
       " {'id': 158858, 'sensor_index': 147010, 'created': 1677196677},\n",
       " {'id': 158859, 'sensor_index': 140440, 'created': 1677196694},\n",
       " {'id': 158856, 'sensor_index': 173083, 'created': 1677196625},\n",
       " {'id': 158857, 'sensor_index': 45769, 'created': 1677196650},\n",
       " {'id': 158863, 'sensor_index': 121825, 'created': 1677196842},\n",
       " {'id': 158860, 'sensor_index': 34511, 'created': 1677196728},\n",
       " {'id': 158861, 'sensor_index': 49563, 'created': 1677196755},\n",
       " {'id': 158866, 'sensor_index': 37657, 'created': 1677196933},\n",
       " {'id': 158867, 'sensor_index': 50555, 'created': 1677196976},\n",
       " {'id': 158864, 'sensor_index': 39725, 'created': 1677196880},\n",
       " {'id': 158865, 'sensor_index': 37861, 'created': 1677196900},\n",
       " {'id': 158870, 'sensor_index': 50565, 'created': 1677197090},\n",
       " {'id': 158871, 'sensor_index': 37643, 'created': 1677197123},\n",
       " {'id': 158868, 'sensor_index': 39733, 'created': 1677197016},\n",
       " {'id': 158869, 'sensor_index': 140432, 'created': 1677197072},\n",
       " {'id': 158872, 'sensor_index': 37253, 'created': 1677197196},\n",
       " {'id': 158882, 'sensor_index': 34499, 'created': 1677197461},\n",
       " {'id': 158883, 'sensor_index': 118909, 'created': 1677197480},\n",
       " {'id': 158881, 'sensor_index': 37661, 'created': 1677197440},\n",
       " {'id': 158886, 'sensor_index': 36709, 'created': 1677197645},\n",
       " {'id': 158887, 'sensor_index': 33117, 'created': 1677197731},\n",
       " {'id': 158884, 'sensor_index': 35011, 'created': 1677197496},\n",
       " {'id': 158885, 'sensor_index': 34969, 'created': 1677197516},\n",
       " {'id': 158888, 'sensor_index': 37255, 'created': 1677197814}]"
      ]
     },
     "execution_count": 326,
     "metadata": {},
     "output_type": "execute_result"
    }
   ],
   "source": [
    "sensors"
   ]
  },
  {
   "cell_type": "code",
   "execution_count": 327,
   "id": "d0498fa3",
   "metadata": {},
   "outputs": [],
   "source": [
    "sensors = pd.DataFrame(sensors)"
   ]
  },
  {
   "cell_type": "code",
   "execution_count": 328,
   "id": "131c777b",
   "metadata": {},
   "outputs": [],
   "source": [
    "sensors = sensors[['sensor_index', 'id', 'created']]\n",
    "\n",
    "sensors.rename(columns = {'sensor_index':'index'}, inplace = True)\n"
   ]
  },
  {
   "cell_type": "code",
   "execution_count": 329,
   "id": "c87781b0",
   "metadata": {},
   "outputs": [],
   "source": [
    "sensors.rename(columns = {'id': 'group_id'}, inplace = True)"
   ]
  },
  {
   "cell_type": "code",
   "execution_count": 330,
   "id": "0f955ee7",
   "metadata": {},
   "outputs": [],
   "source": [
    "sensors = sensors.drop('created', axis=1)"
   ]
  },
  {
   "cell_type": "code",
   "execution_count": 331,
   "id": "5fbba195",
   "metadata": {},
   "outputs": [
    {
     "data": {
      "text/html": [
       "<div>\n",
       "<style scoped>\n",
       "    .dataframe tbody tr th:only-of-type {\n",
       "        vertical-align: middle;\n",
       "    }\n",
       "\n",
       "    .dataframe tbody tr th {\n",
       "        vertical-align: top;\n",
       "    }\n",
       "\n",
       "    .dataframe thead th {\n",
       "        text-align: right;\n",
       "    }\n",
       "</style>\n",
       "<table border=\"1\" class=\"dataframe\">\n",
       "  <thead>\n",
       "    <tr style=\"text-align: right;\">\n",
       "      <th></th>\n",
       "      <th>index</th>\n",
       "      <th>group_id</th>\n",
       "    </tr>\n",
       "  </thead>\n",
       "  <tbody>\n",
       "    <tr>\n",
       "      <th>0</th>\n",
       "      <td>34641</td>\n",
       "      <td>158850</td>\n",
       "    </tr>\n",
       "    <tr>\n",
       "      <th>1</th>\n",
       "      <td>37747</td>\n",
       "      <td>158851</td>\n",
       "    </tr>\n",
       "    <tr>\n",
       "      <th>2</th>\n",
       "      <td>38537</td>\n",
       "      <td>158849</td>\n",
       "    </tr>\n",
       "    <tr>\n",
       "      <th>3</th>\n",
       "      <td>143372</td>\n",
       "      <td>158854</td>\n",
       "    </tr>\n",
       "    <tr>\n",
       "      <th>4</th>\n",
       "      <td>39355</td>\n",
       "      <td>160198</td>\n",
       "    </tr>\n",
       "  </tbody>\n",
       "</table>\n",
       "</div>"
      ],
      "text/plain": [
       "    index  group_id\n",
       "0   34641    158850\n",
       "1   37747    158851\n",
       "2   38537    158849\n",
       "3  143372    158854\n",
       "4   39355    160198"
      ]
     },
     "execution_count": 331,
     "metadata": {},
     "output_type": "execute_result"
    }
   ],
   "source": [
    "sensors.head()"
   ]
  },
  {
   "cell_type": "markdown",
   "id": "f34e0030",
   "metadata": {},
   "source": [
    "### PM 2.5"
   ]
  },
  {
   "cell_type": "code",
   "execution_count": 332,
   "id": "f2462334",
   "metadata": {},
   "outputs": [],
   "source": [
    "payload_pm25 = {'fields': 'pm2.5'}"
   ]
  },
  {
   "cell_type": "code",
   "execution_count": 333,
   "id": "30bc8fc6",
   "metadata": {},
   "outputs": [],
   "source": [
    "pm25 = requests.get(url_groupdata, headers = headers, params = payload_pm25)"
   ]
  },
  {
   "cell_type": "code",
   "execution_count": 334,
   "id": "83a97d26",
   "metadata": {},
   "outputs": [],
   "source": [
    "pm25 = pm25.json()"
   ]
  },
  {
   "cell_type": "code",
   "execution_count": 335,
   "id": "5ca936c9",
   "metadata": {},
   "outputs": [],
   "source": [
    "pm25 = pm25['data']"
   ]
  },
  {
   "cell_type": "code",
   "execution_count": 336,
   "id": "84c736f4",
   "metadata": {},
   "outputs": [],
   "source": [
    "pm25 = pd.DataFrame(pm25, columns = ('index', 'pm_25'))"
   ]
  },
  {
   "cell_type": "code",
   "execution_count": 337,
   "id": "b3732ff6",
   "metadata": {},
   "outputs": [
    {
     "data": {
      "text/html": [
       "<div>\n",
       "<style scoped>\n",
       "    .dataframe tbody tr th:only-of-type {\n",
       "        vertical-align: middle;\n",
       "    }\n",
       "\n",
       "    .dataframe tbody tr th {\n",
       "        vertical-align: top;\n",
       "    }\n",
       "\n",
       "    .dataframe thead th {\n",
       "        text-align: right;\n",
       "    }\n",
       "</style>\n",
       "<table border=\"1\" class=\"dataframe\">\n",
       "  <thead>\n",
       "    <tr style=\"text-align: right;\">\n",
       "      <th></th>\n",
       "      <th>index</th>\n",
       "      <th>pm_25</th>\n",
       "    </tr>\n",
       "  </thead>\n",
       "  <tbody>\n",
       "    <tr>\n",
       "      <th>0</th>\n",
       "      <td>140432</td>\n",
       "      <td>19.6</td>\n",
       "    </tr>\n",
       "    <tr>\n",
       "      <th>1</th>\n",
       "      <td>140440</td>\n",
       "      <td>22.1</td>\n",
       "    </tr>\n",
       "    <tr>\n",
       "      <th>2</th>\n",
       "      <td>143372</td>\n",
       "      <td>22.1</td>\n",
       "    </tr>\n",
       "    <tr>\n",
       "      <th>3</th>\n",
       "      <td>147010</td>\n",
       "      <td>17.6</td>\n",
       "    </tr>\n",
       "    <tr>\n",
       "      <th>4</th>\n",
       "      <td>33117</td>\n",
       "      <td>18.6</td>\n",
       "    </tr>\n",
       "  </tbody>\n",
       "</table>\n",
       "</div>"
      ],
      "text/plain": [
       "    index  pm_25\n",
       "0  140432   19.6\n",
       "1  140440   22.1\n",
       "2  143372   22.1\n",
       "3  147010   17.6\n",
       "4   33117   18.6"
      ]
     },
     "execution_count": 337,
     "metadata": {},
     "output_type": "execute_result"
    }
   ],
   "source": [
    "pm25.head()"
   ]
  },
  {
   "cell_type": "markdown",
   "id": "9e443521",
   "metadata": {},
   "source": [
    "### PM 10"
   ]
  },
  {
   "cell_type": "code",
   "execution_count": 338,
   "id": "d19c3881",
   "metadata": {},
   "outputs": [],
   "source": [
    "payload_pm10 = {'fields': 'pm10.0'}"
   ]
  },
  {
   "cell_type": "code",
   "execution_count": 339,
   "id": "eb94b650",
   "metadata": {},
   "outputs": [],
   "source": [
    "pm10 = requests.get(url_groupdata, headers = headers, params = payload_pm10)"
   ]
  },
  {
   "cell_type": "code",
   "execution_count": 340,
   "id": "fd8754d6",
   "metadata": {},
   "outputs": [],
   "source": [
    "pm10 = pm10.json()"
   ]
  },
  {
   "cell_type": "code",
   "execution_count": 341,
   "id": "e1aea4e0",
   "metadata": {},
   "outputs": [],
   "source": [
    "pm10 = pm10['data']"
   ]
  },
  {
   "cell_type": "code",
   "execution_count": 342,
   "id": "7b8fa70a",
   "metadata": {},
   "outputs": [],
   "source": [
    "pm10 = pd.DataFrame(pm10, columns = ('index', 'pm_10'))"
   ]
  },
  {
   "cell_type": "code",
   "execution_count": 343,
   "id": "cee663a5",
   "metadata": {},
   "outputs": [
    {
     "data": {
      "text/html": [
       "<div>\n",
       "<style scoped>\n",
       "    .dataframe tbody tr th:only-of-type {\n",
       "        vertical-align: middle;\n",
       "    }\n",
       "\n",
       "    .dataframe tbody tr th {\n",
       "        vertical-align: top;\n",
       "    }\n",
       "\n",
       "    .dataframe thead th {\n",
       "        text-align: right;\n",
       "    }\n",
       "</style>\n",
       "<table border=\"1\" class=\"dataframe\">\n",
       "  <thead>\n",
       "    <tr style=\"text-align: right;\">\n",
       "      <th></th>\n",
       "      <th>index</th>\n",
       "      <th>pm_10</th>\n",
       "    </tr>\n",
       "  </thead>\n",
       "  <tbody>\n",
       "    <tr>\n",
       "      <th>0</th>\n",
       "      <td>140432</td>\n",
       "      <td>23.4</td>\n",
       "    </tr>\n",
       "    <tr>\n",
       "      <th>1</th>\n",
       "      <td>140440</td>\n",
       "      <td>22.7</td>\n",
       "    </tr>\n",
       "    <tr>\n",
       "      <th>2</th>\n",
       "      <td>143372</td>\n",
       "      <td>28.7</td>\n",
       "    </tr>\n",
       "    <tr>\n",
       "      <th>3</th>\n",
       "      <td>147010</td>\n",
       "      <td>19.6</td>\n",
       "    </tr>\n",
       "    <tr>\n",
       "      <th>4</th>\n",
       "      <td>33117</td>\n",
       "      <td>15.7</td>\n",
       "    </tr>\n",
       "  </tbody>\n",
       "</table>\n",
       "</div>"
      ],
      "text/plain": [
       "    index  pm_10\n",
       "0  140432   23.4\n",
       "1  140440   22.7\n",
       "2  143372   28.7\n",
       "3  147010   19.6\n",
       "4   33117   15.7"
      ]
     },
     "execution_count": 343,
     "metadata": {},
     "output_type": "execute_result"
    }
   ],
   "source": [
    "pm10.head()"
   ]
  },
  {
   "cell_type": "markdown",
   "id": "8813d77e",
   "metadata": {},
   "source": [
    "### Temperature"
   ]
  },
  {
   "cell_type": "code",
   "execution_count": 344,
   "id": "999a43e3",
   "metadata": {},
   "outputs": [],
   "source": [
    "payload_temp = {'fields': 'temperature'}"
   ]
  },
  {
   "cell_type": "code",
   "execution_count": 345,
   "id": "5a90b53e",
   "metadata": {},
   "outputs": [],
   "source": [
    "temp = requests.get(url_groupdata, headers = headers, params = payload_temp)"
   ]
  },
  {
   "cell_type": "code",
   "execution_count": 346,
   "id": "0dafef57",
   "metadata": {},
   "outputs": [],
   "source": [
    "temp = temp.json()"
   ]
  },
  {
   "cell_type": "code",
   "execution_count": 347,
   "id": "7354d90f",
   "metadata": {},
   "outputs": [],
   "source": [
    "temp = temp['data']"
   ]
  },
  {
   "cell_type": "code",
   "execution_count": 348,
   "id": "c34d590d",
   "metadata": {},
   "outputs": [],
   "source": [
    "temp = pd.DataFrame(temp, columns = ('index', 'temperature_f'))"
   ]
  },
  {
   "cell_type": "code",
   "execution_count": 349,
   "id": "6482e82b",
   "metadata": {},
   "outputs": [],
   "source": [
    "# Convert fahrenheit to celsius.\n",
    "temp['temp_celsius'] = np.round((temp[\"temperature_f\"] - 32) * .5556, decimals = 0)\n",
    "temp['temp_celsius'] = temp['temp_celsius'].astype(int)\n",
    "\n",
    "# Delete fahrenheit column.\n",
    "temp = temp.drop('temperature_f', axis=1)"
   ]
  },
  {
   "cell_type": "code",
   "execution_count": 350,
   "id": "2be02bb0",
   "metadata": {},
   "outputs": [
    {
     "data": {
      "text/html": [
       "<div>\n",
       "<style scoped>\n",
       "    .dataframe tbody tr th:only-of-type {\n",
       "        vertical-align: middle;\n",
       "    }\n",
       "\n",
       "    .dataframe tbody tr th {\n",
       "        vertical-align: top;\n",
       "    }\n",
       "\n",
       "    .dataframe thead th {\n",
       "        text-align: right;\n",
       "    }\n",
       "</style>\n",
       "<table border=\"1\" class=\"dataframe\">\n",
       "  <thead>\n",
       "    <tr style=\"text-align: right;\">\n",
       "      <th></th>\n",
       "      <th>index</th>\n",
       "      <th>temp_celsius</th>\n",
       "    </tr>\n",
       "  </thead>\n",
       "  <tbody>\n",
       "    <tr>\n",
       "      <th>0</th>\n",
       "      <td>140432</td>\n",
       "      <td>31</td>\n",
       "    </tr>\n",
       "    <tr>\n",
       "      <th>1</th>\n",
       "      <td>140440</td>\n",
       "      <td>33</td>\n",
       "    </tr>\n",
       "    <tr>\n",
       "      <th>2</th>\n",
       "      <td>143372</td>\n",
       "      <td>34</td>\n",
       "    </tr>\n",
       "    <tr>\n",
       "      <th>3</th>\n",
       "      <td>147010</td>\n",
       "      <td>37</td>\n",
       "    </tr>\n",
       "    <tr>\n",
       "      <th>4</th>\n",
       "      <td>33117</td>\n",
       "      <td>36</td>\n",
       "    </tr>\n",
       "  </tbody>\n",
       "</table>\n",
       "</div>"
      ],
      "text/plain": [
       "    index  temp_celsius\n",
       "0  140432            31\n",
       "1  140440            33\n",
       "2  143372            34\n",
       "3  147010            37\n",
       "4   33117            36"
      ]
     },
     "execution_count": 350,
     "metadata": {},
     "output_type": "execute_result"
    }
   ],
   "source": [
    "temp.head()"
   ]
  },
  {
   "cell_type": "markdown",
   "id": "5d444544",
   "metadata": {},
   "source": [
    "### Date"
   ]
  },
  {
   "cell_type": "code",
   "execution_count": 351,
   "id": "0c31cb54",
   "metadata": {},
   "outputs": [],
   "source": [
    "now = datetime.now()"
   ]
  },
  {
   "cell_type": "code",
   "execution_count": 352,
   "id": "99e8f987",
   "metadata": {},
   "outputs": [],
   "source": [
    "timestamp = now.strftime(\"%d/%m/%Y %H:%M:%S\")"
   ]
  },
  {
   "cell_type": "code",
   "execution_count": 353,
   "id": "332d0480",
   "metadata": {},
   "outputs": [],
   "source": [
    "timestamp = pd.Series(timestamp)"
   ]
  },
  {
   "cell_type": "code",
   "execution_count": 354,
   "id": "3656116f",
   "metadata": {},
   "outputs": [],
   "source": [
    "timestamp = pd.DataFrame(timestamp)"
   ]
  },
  {
   "cell_type": "code",
   "execution_count": 355,
   "id": "fc418103",
   "metadata": {},
   "outputs": [],
   "source": [
    "timestamp = pd.DataFrame(np.repeat(timestamp.values, 32, axis=0))"
   ]
  },
  {
   "cell_type": "code",
   "execution_count": 356,
   "id": "afe55a06",
   "metadata": {},
   "outputs": [
    {
     "data": {
      "text/html": [
       "<div>\n",
       "<style scoped>\n",
       "    .dataframe tbody tr th:only-of-type {\n",
       "        vertical-align: middle;\n",
       "    }\n",
       "\n",
       "    .dataframe tbody tr th {\n",
       "        vertical-align: top;\n",
       "    }\n",
       "\n",
       "    .dataframe thead th {\n",
       "        text-align: right;\n",
       "    }\n",
       "</style>\n",
       "<table border=\"1\" class=\"dataframe\">\n",
       "  <thead>\n",
       "    <tr style=\"text-align: right;\">\n",
       "      <th></th>\n",
       "      <th>0</th>\n",
       "    </tr>\n",
       "  </thead>\n",
       "  <tbody>\n",
       "    <tr>\n",
       "      <th>0</th>\n",
       "      <td>28/02/2023 12:04:11</td>\n",
       "    </tr>\n",
       "    <tr>\n",
       "      <th>1</th>\n",
       "      <td>28/02/2023 12:04:11</td>\n",
       "    </tr>\n",
       "    <tr>\n",
       "      <th>2</th>\n",
       "      <td>28/02/2023 12:04:11</td>\n",
       "    </tr>\n",
       "    <tr>\n",
       "      <th>3</th>\n",
       "      <td>28/02/2023 12:04:11</td>\n",
       "    </tr>\n",
       "    <tr>\n",
       "      <th>4</th>\n",
       "      <td>28/02/2023 12:04:11</td>\n",
       "    </tr>\n",
       "  </tbody>\n",
       "</table>\n",
       "</div>"
      ],
      "text/plain": [
       "                     0\n",
       "0  28/02/2023 12:04:11\n",
       "1  28/02/2023 12:04:11\n",
       "2  28/02/2023 12:04:11\n",
       "3  28/02/2023 12:04:11\n",
       "4  28/02/2023 12:04:11"
      ]
     },
     "execution_count": 356,
     "metadata": {},
     "output_type": "execute_result"
    }
   ],
   "source": [
    "timestamp.head()"
   ]
  },
  {
   "cell_type": "markdown",
   "id": "c9735d5d",
   "metadata": {},
   "source": [
    "### Join data into one database"
   ]
  },
  {
   "cell_type": "code",
   "execution_count": 357,
   "id": "c0555731",
   "metadata": {},
   "outputs": [],
   "source": [
    "air_pollution = pd.concat([sensors.set_index('index'),pm25.set_index('index')], axis=1, join='inner').reset_index()"
   ]
  },
  {
   "cell_type": "code",
   "execution_count": 358,
   "id": "28aa9fb6",
   "metadata": {},
   "outputs": [],
   "source": [
    "air_pollution = pd.concat([air_pollution.set_index('index'), pm10.set_index('index')], axis=1, join='inner').reset_index()"
   ]
  },
  {
   "cell_type": "code",
   "execution_count": 359,
   "id": "a089adfb",
   "metadata": {},
   "outputs": [],
   "source": [
    "air_pollution = pd.concat([air_pollution.set_index('index'), temp.set_index('index')], axis=1, join='inner').reset_index()"
   ]
  },
  {
   "cell_type": "code",
   "execution_count": 360,
   "id": "f9c6597b",
   "metadata": {},
   "outputs": [],
   "source": [
    "air_pollution['date'] = timestamp"
   ]
  },
  {
   "cell_type": "code",
   "execution_count": 361,
   "id": "2a0e7ba6",
   "metadata": {},
   "outputs": [
    {
     "data": {
      "text/html": [
       "<div>\n",
       "<style scoped>\n",
       "    .dataframe tbody tr th:only-of-type {\n",
       "        vertical-align: middle;\n",
       "    }\n",
       "\n",
       "    .dataframe tbody tr th {\n",
       "        vertical-align: top;\n",
       "    }\n",
       "\n",
       "    .dataframe thead th {\n",
       "        text-align: right;\n",
       "    }\n",
       "</style>\n",
       "<table border=\"1\" class=\"dataframe\">\n",
       "  <thead>\n",
       "    <tr style=\"text-align: right;\">\n",
       "      <th></th>\n",
       "      <th>index</th>\n",
       "      <th>group_id</th>\n",
       "      <th>pm_25</th>\n",
       "      <th>pm_10</th>\n",
       "      <th>temp_celsius</th>\n",
       "      <th>date</th>\n",
       "    </tr>\n",
       "  </thead>\n",
       "  <tbody>\n",
       "    <tr>\n",
       "      <th>0</th>\n",
       "      <td>34641</td>\n",
       "      <td>158850</td>\n",
       "      <td>18.6</td>\n",
       "      <td>21.5</td>\n",
       "      <td>33</td>\n",
       "      <td>28/02/2023 12:04:11</td>\n",
       "    </tr>\n",
       "    <tr>\n",
       "      <th>1</th>\n",
       "      <td>37747</td>\n",
       "      <td>158851</td>\n",
       "      <td>18.4</td>\n",
       "      <td>22.5</td>\n",
       "      <td>31</td>\n",
       "      <td>28/02/2023 12:04:11</td>\n",
       "    </tr>\n",
       "    <tr>\n",
       "      <th>2</th>\n",
       "      <td>38537</td>\n",
       "      <td>158849</td>\n",
       "      <td>23.5</td>\n",
       "      <td>28.6</td>\n",
       "      <td>34</td>\n",
       "      <td>28/02/2023 12:04:11</td>\n",
       "    </tr>\n",
       "    <tr>\n",
       "      <th>3</th>\n",
       "      <td>143372</td>\n",
       "      <td>158854</td>\n",
       "      <td>22.1</td>\n",
       "      <td>28.7</td>\n",
       "      <td>34</td>\n",
       "      <td>28/02/2023 12:04:11</td>\n",
       "    </tr>\n",
       "    <tr>\n",
       "      <th>4</th>\n",
       "      <td>39355</td>\n",
       "      <td>160198</td>\n",
       "      <td>19.8</td>\n",
       "      <td>28.1</td>\n",
       "      <td>33</td>\n",
       "      <td>28/02/2023 12:04:11</td>\n",
       "    </tr>\n",
       "    <tr>\n",
       "      <th>5</th>\n",
       "      <td>39697</td>\n",
       "      <td>158855</td>\n",
       "      <td>20.2</td>\n",
       "      <td>23.4</td>\n",
       "      <td>32</td>\n",
       "      <td>28/02/2023 12:04:11</td>\n",
       "    </tr>\n",
       "    <tr>\n",
       "      <th>6</th>\n",
       "      <td>34569</td>\n",
       "      <td>158852</td>\n",
       "      <td>17.0</td>\n",
       "      <td>18.9</td>\n",
       "      <td>37</td>\n",
       "      <td>28/02/2023 12:04:11</td>\n",
       "    </tr>\n",
       "    <tr>\n",
       "      <th>7</th>\n",
       "      <td>39731</td>\n",
       "      <td>158853</td>\n",
       "      <td>19.0</td>\n",
       "      <td>18.6</td>\n",
       "      <td>37</td>\n",
       "      <td>28/02/2023 12:04:11</td>\n",
       "    </tr>\n",
       "    <tr>\n",
       "      <th>8</th>\n",
       "      <td>147010</td>\n",
       "      <td>158858</td>\n",
       "      <td>17.6</td>\n",
       "      <td>19.6</td>\n",
       "      <td>37</td>\n",
       "      <td>28/02/2023 12:04:11</td>\n",
       "    </tr>\n",
       "    <tr>\n",
       "      <th>9</th>\n",
       "      <td>140440</td>\n",
       "      <td>158859</td>\n",
       "      <td>22.1</td>\n",
       "      <td>22.7</td>\n",
       "      <td>33</td>\n",
       "      <td>28/02/2023 12:04:11</td>\n",
       "    </tr>\n",
       "    <tr>\n",
       "      <th>10</th>\n",
       "      <td>173083</td>\n",
       "      <td>158856</td>\n",
       "      <td>0.0</td>\n",
       "      <td>0.0</td>\n",
       "      <td>31</td>\n",
       "      <td>28/02/2023 12:04:11</td>\n",
       "    </tr>\n",
       "    <tr>\n",
       "      <th>11</th>\n",
       "      <td>45769</td>\n",
       "      <td>158857</td>\n",
       "      <td>14.8</td>\n",
       "      <td>17.1</td>\n",
       "      <td>39</td>\n",
       "      <td>28/02/2023 12:04:11</td>\n",
       "    </tr>\n",
       "    <tr>\n",
       "      <th>12</th>\n",
       "      <td>121825</td>\n",
       "      <td>158863</td>\n",
       "      <td>24.7</td>\n",
       "      <td>25.6</td>\n",
       "      <td>34</td>\n",
       "      <td>28/02/2023 12:04:11</td>\n",
       "    </tr>\n",
       "    <tr>\n",
       "      <th>13</th>\n",
       "      <td>34511</td>\n",
       "      <td>158860</td>\n",
       "      <td>12.4</td>\n",
       "      <td>14.0</td>\n",
       "      <td>31</td>\n",
       "      <td>28/02/2023 12:04:11</td>\n",
       "    </tr>\n",
       "    <tr>\n",
       "      <th>14</th>\n",
       "      <td>49563</td>\n",
       "      <td>158861</td>\n",
       "      <td>3.4</td>\n",
       "      <td>3.9</td>\n",
       "      <td>31</td>\n",
       "      <td>28/02/2023 12:04:11</td>\n",
       "    </tr>\n",
       "    <tr>\n",
       "      <th>15</th>\n",
       "      <td>37657</td>\n",
       "      <td>158866</td>\n",
       "      <td>14.7</td>\n",
       "      <td>18.4</td>\n",
       "      <td>32</td>\n",
       "      <td>28/02/2023 12:04:11</td>\n",
       "    </tr>\n",
       "    <tr>\n",
       "      <th>16</th>\n",
       "      <td>50555</td>\n",
       "      <td>158867</td>\n",
       "      <td>22.6</td>\n",
       "      <td>27.0</td>\n",
       "      <td>36</td>\n",
       "      <td>28/02/2023 12:04:11</td>\n",
       "    </tr>\n",
       "    <tr>\n",
       "      <th>17</th>\n",
       "      <td>39725</td>\n",
       "      <td>158864</td>\n",
       "      <td>27.4</td>\n",
       "      <td>29.3</td>\n",
       "      <td>32</td>\n",
       "      <td>28/02/2023 12:04:11</td>\n",
       "    </tr>\n",
       "    <tr>\n",
       "      <th>18</th>\n",
       "      <td>37861</td>\n",
       "      <td>158865</td>\n",
       "      <td>0.8</td>\n",
       "      <td>0.8</td>\n",
       "      <td>33</td>\n",
       "      <td>28/02/2023 12:04:11</td>\n",
       "    </tr>\n",
       "    <tr>\n",
       "      <th>19</th>\n",
       "      <td>50565</td>\n",
       "      <td>158870</td>\n",
       "      <td>27.6</td>\n",
       "      <td>29.4</td>\n",
       "      <td>33</td>\n",
       "      <td>28/02/2023 12:04:11</td>\n",
       "    </tr>\n",
       "    <tr>\n",
       "      <th>20</th>\n",
       "      <td>37643</td>\n",
       "      <td>158871</td>\n",
       "      <td>26.4</td>\n",
       "      <td>30.0</td>\n",
       "      <td>33</td>\n",
       "      <td>28/02/2023 12:04:11</td>\n",
       "    </tr>\n",
       "    <tr>\n",
       "      <th>21</th>\n",
       "      <td>39733</td>\n",
       "      <td>158868</td>\n",
       "      <td>29.5</td>\n",
       "      <td>40.9</td>\n",
       "      <td>34</td>\n",
       "      <td>28/02/2023 12:04:11</td>\n",
       "    </tr>\n",
       "    <tr>\n",
       "      <th>22</th>\n",
       "      <td>140432</td>\n",
       "      <td>158869</td>\n",
       "      <td>19.6</td>\n",
       "      <td>23.4</td>\n",
       "      <td>31</td>\n",
       "      <td>28/02/2023 12:04:11</td>\n",
       "    </tr>\n",
       "    <tr>\n",
       "      <th>23</th>\n",
       "      <td>37253</td>\n",
       "      <td>158872</td>\n",
       "      <td>27.2</td>\n",
       "      <td>36.4</td>\n",
       "      <td>34</td>\n",
       "      <td>28/02/2023 12:04:11</td>\n",
       "    </tr>\n",
       "    <tr>\n",
       "      <th>24</th>\n",
       "      <td>34499</td>\n",
       "      <td>158882</td>\n",
       "      <td>0.7</td>\n",
       "      <td>0.7</td>\n",
       "      <td>32</td>\n",
       "      <td>28/02/2023 12:04:11</td>\n",
       "    </tr>\n",
       "    <tr>\n",
       "      <th>25</th>\n",
       "      <td>118909</td>\n",
       "      <td>158883</td>\n",
       "      <td>25.8</td>\n",
       "      <td>29.7</td>\n",
       "      <td>33</td>\n",
       "      <td>28/02/2023 12:04:11</td>\n",
       "    </tr>\n",
       "    <tr>\n",
       "      <th>26</th>\n",
       "      <td>37661</td>\n",
       "      <td>158881</td>\n",
       "      <td>25.7</td>\n",
       "      <td>30.5</td>\n",
       "      <td>33</td>\n",
       "      <td>28/02/2023 12:04:11</td>\n",
       "    </tr>\n",
       "    <tr>\n",
       "      <th>27</th>\n",
       "      <td>36709</td>\n",
       "      <td>158886</td>\n",
       "      <td>27.8</td>\n",
       "      <td>29.6</td>\n",
       "      <td>37</td>\n",
       "      <td>28/02/2023 12:04:11</td>\n",
       "    </tr>\n",
       "    <tr>\n",
       "      <th>28</th>\n",
       "      <td>33117</td>\n",
       "      <td>158887</td>\n",
       "      <td>18.6</td>\n",
       "      <td>15.7</td>\n",
       "      <td>36</td>\n",
       "      <td>28/02/2023 12:04:11</td>\n",
       "    </tr>\n",
       "    <tr>\n",
       "      <th>29</th>\n",
       "      <td>35011</td>\n",
       "      <td>158884</td>\n",
       "      <td>22.6</td>\n",
       "      <td>24.6</td>\n",
       "      <td>44</td>\n",
       "      <td>28/02/2023 12:04:11</td>\n",
       "    </tr>\n",
       "    <tr>\n",
       "      <th>30</th>\n",
       "      <td>34969</td>\n",
       "      <td>158885</td>\n",
       "      <td>24.6</td>\n",
       "      <td>32.3</td>\n",
       "      <td>34</td>\n",
       "      <td>28/02/2023 12:04:11</td>\n",
       "    </tr>\n",
       "    <tr>\n",
       "      <th>31</th>\n",
       "      <td>37255</td>\n",
       "      <td>158888</td>\n",
       "      <td>24.7</td>\n",
       "      <td>31.0</td>\n",
       "      <td>30</td>\n",
       "      <td>28/02/2023 12:04:11</td>\n",
       "    </tr>\n",
       "  </tbody>\n",
       "</table>\n",
       "</div>"
      ],
      "text/plain": [
       "     index  group_id  pm_25  pm_10  temp_celsius                 date\n",
       "0    34641    158850   18.6   21.5            33  28/02/2023 12:04:11\n",
       "1    37747    158851   18.4   22.5            31  28/02/2023 12:04:11\n",
       "2    38537    158849   23.5   28.6            34  28/02/2023 12:04:11\n",
       "3   143372    158854   22.1   28.7            34  28/02/2023 12:04:11\n",
       "4    39355    160198   19.8   28.1            33  28/02/2023 12:04:11\n",
       "5    39697    158855   20.2   23.4            32  28/02/2023 12:04:11\n",
       "6    34569    158852   17.0   18.9            37  28/02/2023 12:04:11\n",
       "7    39731    158853   19.0   18.6            37  28/02/2023 12:04:11\n",
       "8   147010    158858   17.6   19.6            37  28/02/2023 12:04:11\n",
       "9   140440    158859   22.1   22.7            33  28/02/2023 12:04:11\n",
       "10  173083    158856    0.0    0.0            31  28/02/2023 12:04:11\n",
       "11   45769    158857   14.8   17.1            39  28/02/2023 12:04:11\n",
       "12  121825    158863   24.7   25.6            34  28/02/2023 12:04:11\n",
       "13   34511    158860   12.4   14.0            31  28/02/2023 12:04:11\n",
       "14   49563    158861    3.4    3.9            31  28/02/2023 12:04:11\n",
       "15   37657    158866   14.7   18.4            32  28/02/2023 12:04:11\n",
       "16   50555    158867   22.6   27.0            36  28/02/2023 12:04:11\n",
       "17   39725    158864   27.4   29.3            32  28/02/2023 12:04:11\n",
       "18   37861    158865    0.8    0.8            33  28/02/2023 12:04:11\n",
       "19   50565    158870   27.6   29.4            33  28/02/2023 12:04:11\n",
       "20   37643    158871   26.4   30.0            33  28/02/2023 12:04:11\n",
       "21   39733    158868   29.5   40.9            34  28/02/2023 12:04:11\n",
       "22  140432    158869   19.6   23.4            31  28/02/2023 12:04:11\n",
       "23   37253    158872   27.2   36.4            34  28/02/2023 12:04:11\n",
       "24   34499    158882    0.7    0.7            32  28/02/2023 12:04:11\n",
       "25  118909    158883   25.8   29.7            33  28/02/2023 12:04:11\n",
       "26   37661    158881   25.7   30.5            33  28/02/2023 12:04:11\n",
       "27   36709    158886   27.8   29.6            37  28/02/2023 12:04:11\n",
       "28   33117    158887   18.6   15.7            36  28/02/2023 12:04:11\n",
       "29   35011    158884   22.6   24.6            44  28/02/2023 12:04:11\n",
       "30   34969    158885   24.6   32.3            34  28/02/2023 12:04:11\n",
       "31   37255    158888   24.7   31.0            30  28/02/2023 12:04:11"
      ]
     },
     "execution_count": 361,
     "metadata": {},
     "output_type": "execute_result"
    }
   ],
   "source": [
    "air_pollution"
   ]
  },
  {
   "cell_type": "code",
   "execution_count": 362,
   "id": "102af5e6",
   "metadata": {},
   "outputs": [
    {
     "data": {
      "text/plain": [
       "index             int64\n",
       "group_id          int64\n",
       "pm_25           float64\n",
       "pm_10           float64\n",
       "temp_celsius      int64\n",
       "date             object\n",
       "dtype: object"
      ]
     },
     "execution_count": 362,
     "metadata": {},
     "output_type": "execute_result"
    }
   ],
   "source": [
    "air_pollution.dtypes"
   ]
  },
  {
   "cell_type": "markdown",
   "id": "363411b7",
   "metadata": {},
   "source": [
    "### Create sql database"
   ]
  },
  {
   "cell_type": "code",
   "execution_count": 363,
   "id": "0007ab6e",
   "metadata": {},
   "outputs": [],
   "source": [
    "conn = sqlite3.connect('air-pollution-prueba.db')\n",
    "c = conn.cursor()\n",
    "\n",
    "c.execute('''\n",
    "          CREATE TABLE IF NOT EXISTS air_pollution\n",
    "          ([index] INTEGER PRIMARY KEY, [group_id] INTEGER, [pm_25] REAL, [pm_10] REAL, [temp_celsius] INTEGER,\n",
    "          [date] TEXT)\n",
    "          ''')\n",
    "\n",
    "conn.commit()"
   ]
  },
  {
   "cell_type": "code",
   "execution_count": null,
   "id": "98a04672",
   "metadata": {},
   "outputs": [],
   "source": []
  },
  {
   "cell_type": "code",
   "execution_count": 364,
   "id": "7cfa0066",
   "metadata": {},
   "outputs": [],
   "source": [
    "#conn = sqlite3.connect('air-pollution-prueba.db')\n",
    "#c = conn.cursor()\n",
    "\n",
    "#air_pollution.to_sql('air_pollution', conn, if_exists='append', index=True)\n",
    "\n",
    "#conn.commit()"
   ]
  },
  {
   "cell_type": "code",
   "execution_count": null,
   "id": "523cdf2b",
   "metadata": {},
   "outputs": [],
   "source": []
  },
  {
   "cell_type": "markdown",
   "id": "a340acb8",
   "metadata": {},
   "source": [
    "### SQL Database"
   ]
  },
  {
   "cell_type": "code",
   "execution_count": 365,
   "id": "22e3be13",
   "metadata": {},
   "outputs": [
    {
     "ename": "OperationalError",
     "evalue": "near \"index\": syntax error",
     "output_type": "error",
     "traceback": [
      "\u001b[0;31m---------------------------------------------------------------------------\u001b[0m",
      "\u001b[0;31mOperationalError\u001b[0m                          Traceback (most recent call last)",
      "\u001b[0;32m<ipython-input-365-87ff65b7702f>\u001b[0m in \u001b[0;36m<module>\u001b[0;34m\u001b[0m\n\u001b[1;32m      5\u001b[0m           \u001b[0mSELECT\u001b[0m\u001b[0;34m\u001b[0m\u001b[0;34m\u001b[0m\u001b[0m\n\u001b[1;32m      6\u001b[0m           \u001b[0mindex\u001b[0m\u001b[0;34m,\u001b[0m \u001b[0mgroup_id\u001b[0m\u001b[0;34m,\u001b[0m \u001b[0mpm_25\u001b[0m\u001b[0;34m,\u001b[0m \u001b[0mpm_10\u001b[0m\u001b[0;34m,\u001b[0m \u001b[0mtemp_celsius\u001b[0m\u001b[0;34m,\u001b[0m \u001b[0mdate\u001b[0m \u001b[0mFROM\u001b[0m \u001b[0mair_pollution\u001b[0m\u001b[0;34m;\u001b[0m\u001b[0;34m\u001b[0m\u001b[0;34m\u001b[0m\u001b[0m\n\u001b[0;32m----> 7\u001b[0;31m           ''')\n\u001b[0m\u001b[1;32m      8\u001b[0m \u001b[0;34m\u001b[0m\u001b[0m\n\u001b[1;32m      9\u001b[0m \u001b[0mdf\u001b[0m \u001b[0;34m=\u001b[0m \u001b[0mpd\u001b[0m\u001b[0;34m.\u001b[0m\u001b[0mDataFrame\u001b[0m\u001b[0;34m(\u001b[0m\u001b[0mc\u001b[0m\u001b[0;34m.\u001b[0m\u001b[0mfetchall\u001b[0m\u001b[0;34m(\u001b[0m\u001b[0;34m)\u001b[0m\u001b[0;34m,\u001b[0m \u001b[0mcolumns\u001b[0m\u001b[0;34m=\u001b[0m\u001b[0;34m[\u001b[0m\u001b[0;34m'index'\u001b[0m\u001b[0;34m,\u001b[0m\u001b[0;34m'group_id'\u001b[0m\u001b[0;34m,\u001b[0m \u001b[0;34m'pm_25'\u001b[0m\u001b[0;34m,\u001b[0m \u001b[0;34m'pm_10'\u001b[0m\u001b[0;34m,\u001b[0m \u001b[0;34m'temp_celsius'\u001b[0m\u001b[0;34m,\u001b[0m \u001b[0;34m'date'\u001b[0m\u001b[0;34m]\u001b[0m\u001b[0;34m)\u001b[0m\u001b[0;34m\u001b[0m\u001b[0;34m\u001b[0m\u001b[0m\n",
      "\u001b[0;31mOperationalError\u001b[0m: near \"index\": syntax error"
     ]
    }
   ],
   "source": [
    "conn = sqlite3.connect('air-pollution-prueba.db') \n",
    "c = conn.cursor()\n",
    "                   \n",
    "c.execute('''\n",
    "          SELECT\n",
    "          index, group_id, pm_25, pm_10, temp_celsius, date FROM air_pollution;\n",
    "          ''')\n",
    "\n",
    "df = pd.DataFrame(c.fetchall(), columns=['index','group_id', 'pm_25', 'pm_10', 'temp_celsius', 'date'])\n",
    "df"
   ]
  },
  {
   "cell_type": "code",
   "execution_count": null,
   "id": "cfbfc81a",
   "metadata": {},
   "outputs": [],
   "source": []
  },
  {
   "cell_type": "code",
   "execution_count": null,
   "id": "913bfdfa",
   "metadata": {},
   "outputs": [],
   "source": []
  },
  {
   "cell_type": "code",
   "execution_count": null,
   "id": "2610d048",
   "metadata": {},
   "outputs": [],
   "source": []
  },
  {
   "cell_type": "code",
   "execution_count": null,
   "id": "c9c52ed2",
   "metadata": {},
   "outputs": [],
   "source": []
  },
  {
   "cell_type": "code",
   "execution_count": null,
   "id": "9afcf86d",
   "metadata": {},
   "outputs": [],
   "source": []
  },
  {
   "cell_type": "code",
   "execution_count": null,
   "id": "4d07ac3a",
   "metadata": {},
   "outputs": [],
   "source": []
  }
 ],
 "metadata": {
  "kernelspec": {
   "display_name": "Python 3",
   "language": "python",
   "name": "python3"
  },
  "language_info": {
   "codemirror_mode": {
    "name": "ipython",
    "version": 3
   },
   "file_extension": ".py",
   "mimetype": "text/x-python",
   "name": "python",
   "nbconvert_exporter": "python",
   "pygments_lexer": "ipython3",
   "version": "3.6.9"
  }
 },
 "nbformat": 4,
 "nbformat_minor": 5
}
